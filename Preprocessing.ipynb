{
  "cells": [
    {
      "cell_type": "code",
      "execution_count": null,
      "id": "38623084-3bfd-452b-a2cf-2d463f160ed3",
      "metadata": {
        "id": "38623084-3bfd-452b-a2cf-2d463f160ed3"
      },
      "outputs": [],
      "source": [
        "\"\"\"The Dataset used for building this model has the following fields :\n",
        "1.address\n",
        "Candidate's address (if available).\n",
        "\n",
        "2.career_objective\n",
        "A brief summary of the candidate's career goals or objectives.\n",
        "\n",
        "3.skills\n",
        "List of skills possessed by the candidate (e.g., technical and soft skills)\n",
        "\n",
        "4.educational_institution_name\n",
        "Names of educational institutions attended by the candidate.\n",
        "\n",
        "5.degree_names\n",
        "Degrees obtained by the candidate (e.g., B.Tech, MBA).\n",
        "\n",
        "6.passing_years\n",
        "Year(s) of graduation or program completion.\n",
        "\n",
        "7.educational_results\n",
        "Results or grades achieved in the educational qualifications, such as GPA, percentage, or division.\n",
        "\n",
        "8.result_types\n",
        "The format or type of the educational results, such as GPA, percentage, or classification (e.g., Distinction).\n",
        "\n",
        "9.major_field_of_studies\n",
        "The main fields or subjects studied during the candidate’s education (e.g., Computer Science, Mathematics).\n",
        "\n",
        "10.professional_company_names\n",
        "Names of the companies or organizations where the candidate has worked professionally.\n",
        "\n",
        "11.company_urls\n",
        "RLs or websites of the professional companies mentioned by the candidate.\n",
        "\n",
        "12.start_dates\n",
        "The start dates of the candidate's employment or internships in various companies.\n",
        "\n",
        "13.end_dates\n",
        "The end dates of the candidate's employment or internships in various companies.\n",
        "\n",
        "14.related_skils_in_job\n",
        "A list of skills relevant to the candidate's job roles, as mentioned in their professional experience.\n",
        "\n",
        "15.positions\n",
        "The job positions or designations held by the candidate in their professional career.\n",
        "\n",
        "16.locations\n",
        "Locations or cities where the candidate has worked in various roles.\n",
        "\n",
        "17.responsibilities\n",
        "A description of the responsibilities and duties performed by the candidate in their job roles.\n",
        "\n",
        "18.extra_curricular_activity_types\n",
        "Types of extracurricular activities participated in by the candidate, such as leadership roles, volunteering, or sports.\n",
        "\n",
        "19.extra_curricular_organization_names\n",
        "Names of organizations associated with the candidate's extracurricular activities.\n",
        "\n",
        "20.extra_curricular_organization_links\n",
        "Links to websites or references related to the organizations involved in extracurricular activities.\n",
        "\n",
        "21.role_positions\n",
        "Specific roles held by the candidate in extracurricular activities or volunteer programs.\n",
        "\n",
        "22.languages\n",
        "A list of languages known by the candidate.\n",
        "\n",
        "23.proficiency_levels\n",
        "The level of proficiency in the languages mentioned (e.g., Beginner, Intermediate, Fluent).\n",
        "\n",
        "24.certification_providers\n",
        "Organizations or institutions that issued certifications obtained by the candidate.\n",
        "\n",
        "25.certification_skills\n",
        "Skills or areas of expertise acquired through certifications (e.g., Data Science, AWS).\n",
        "\n",
        "26.online_links\n",
        "Links to the candidate's online profiles, portfolios, or other relevant resources (e.g., LinkedIn, GitHub).\n",
        "\n",
        "27.issue_dates\n",
        "Dates when certifications or credentials were issued.\n",
        "\n",
        "28.expiry_dates\n",
        "Expiration dates of certifications, if applicable.\n",
        "\n",
        "29.job_position_name\n",
        "Specific job positions targeted by the candidate, as mentioned in the resume.\n",
        "\n",
        "30.educationaL_requirements\n",
        "Educational qualifications required for the job positions listed in the resume.\n",
        "\n",
        "31.experiencere_requirement\n",
        "Minimum experience required for the job positions listed in the resume.\n",
        "\n",
        "32.age_requirement\n",
        "Any age restrictions or requirements mentioned for specific job roles.\n",
        "\n",
        "33.responsibilities.1\n",
        "Additional or alternate descriptions of responsibilities associated with job roles.\n",
        "\n",
        "34.skills_required\n",
        "Skills explicitly required for the job positions listed in the resume.\n",
        "\n",
        "35.matched_score\n",
        "A numerical score that indicates the level of match between the candidate's profile and a specific job position\n",
        "\n",
        "This is a rich datset that helps us with the goals set forth in this project\"\"\"\n"
      ]
    },
    {
      "cell_type": "code",
      "execution_count": null,
      "id": "00ae582b-b1cc-4ff5-88c5-2d3e100b46ec",
      "metadata": {
        "id": "00ae582b-b1cc-4ff5-88c5-2d3e100b46ec"
      },
      "outputs": [],
      "source": [
        "import os\n",
        "import pandas as pd\n",
        "import numpy as np\n",
        "import matplotlib.pyplot as plt\n",
        "import seaborn as sns\n",
        "import re\n",
        "\n",
        "import ast\n",
        "from dateutil import parser"
      ]
    },
    {
      "cell_type": "code",
      "execution_count": null,
      "id": "7ad48c20-8aa7-4b03-ab57-1bad52015094",
      "metadata": {
        "id": "7ad48c20-8aa7-4b03-ab57-1bad52015094"
      },
      "outputs": [],
      "source": [
        "resume_data = pd.read_csv('resume_data.csv')"
      ]
    },
    {
      "cell_type": "code",
      "execution_count": null,
      "id": "cf2a9c3c-c559-4c02-a481-899a4ce85992",
      "metadata": {
        "id": "cf2a9c3c-c559-4c02-a481-899a4ce85992",
        "outputId": "04156167-23f4-4dd5-f31c-d14bdd427ee6"
      },
      "outputs": [
        {
          "name": "stdout",
          "output_type": "stream",
          "text": [
            "<class 'pandas.core.frame.DataFrame'>\n",
            "RangeIndex: 9544 entries, 0 to 9543\n",
            "Data columns (total 35 columns):\n",
            " #   Column                               Non-Null Count  Dtype  \n",
            "---  ------                               --------------  -----  \n",
            " 0   address                              784 non-null    object \n",
            " 1   career_objective                     4740 non-null   object \n",
            " 2   skills                               9488 non-null   object \n",
            " 3   educational_institution_name         9460 non-null   object \n",
            " 4   degree_names                         9460 non-null   object \n",
            " 5   passing_years                        9460 non-null   object \n",
            " 6   educational_results                  9460 non-null   object \n",
            " 7   result_types                         9460 non-null   object \n",
            " 8   major_field_of_studies               9460 non-null   object \n",
            " 9   professional_company_names           9460 non-null   object \n",
            " 10  company_urls                         9460 non-null   object \n",
            " 11  start_dates                          9460 non-null   object \n",
            " 12  end_dates                            9460 non-null   object \n",
            " 13  related_skils_in_job                 9460 non-null   object \n",
            " 14  positions                            9460 non-null   object \n",
            " 15  locations                            9460 non-null   object \n",
            " 16  responsibilities                     9544 non-null   object \n",
            " 17  extra_curricular_activity_types      3426 non-null   object \n",
            " 18  extra_curricular_organization_names  3426 non-null   object \n",
            " 19  extra_curricular_organization_links  3426 non-null   object \n",
            " 20  role_positions                       3426 non-null   object \n",
            " 21  languages                            700 non-null    object \n",
            " 22  proficiency_levels                   700 non-null    object \n",
            " 23  certification_providers              2008 non-null   object \n",
            " 24  certification_skills                 2008 non-null   object \n",
            " 25  online_links                         2008 non-null   object \n",
            " 26  issue_dates                          2008 non-null   object \n",
            " 27  expiry_dates                         2008 non-null   object \n",
            " 28  job_position_name                    9544 non-null   object \n",
            " 29  educational_requirements             9544 non-null   object \n",
            " 30  experiencere_requirement             8180 non-null   object \n",
            " 31  age_requirement                      5457 non-null   object \n",
            " 32  responsibilities.1                   9544 non-null   object \n",
            " 33  skills_required                      7843 non-null   object \n",
            " 34  matched_score                        9544 non-null   float64\n",
            "dtypes: float64(1), object(34)\n",
            "memory usage: 2.5+ MB\n"
          ]
        }
      ],
      "source": [
        "#Printing out the dataframe information\n",
        "resume_data.info()"
      ]
    },
    {
      "cell_type": "code",
      "execution_count": null,
      "id": "08f09f15-4a8d-4fd0-8a2e-aeac2250903e",
      "metadata": {
        "scrolled": true,
        "id": "08f09f15-4a8d-4fd0-8a2e-aeac2250903e",
        "outputId": "7fa792f5-6357-484e-e41d-b48626411d50"
      },
      "outputs": [
        {
          "data": {
            "text/plain": [
              "address                                91.785415\n",
              "career_objective                       50.335289\n",
              "skills                                  0.586756\n",
              "educational_institution_name            0.880134\n",
              "degree_names                            0.880134\n",
              "passing_years                           0.880134\n",
              "educational_results                     0.880134\n",
              "result_types                            0.880134\n",
              "major_field_of_studies                  0.880134\n",
              "professional_company_names              0.880134\n",
              "company_urls                            0.880134\n",
              "start_dates                             0.880134\n",
              "end_dates                               0.880134\n",
              "related_skils_in_job                    0.880134\n",
              "positions                               0.880134\n",
              "locations                               0.880134\n",
              "responsibilities                        0.000000\n",
              "extra_curricular_activity_types        64.103101\n",
              "extra_curricular_organization_names    64.103101\n",
              "extra_curricular_organization_links    64.103101\n",
              "role_positions                         64.103101\n",
              "languages                              92.665549\n",
              "proficiency_levels                     92.665549\n",
              "certification_providers                78.960604\n",
              "certification_skills                   78.960604\n",
              "online_links                           78.960604\n",
              "issue_dates                            78.960604\n",
              "expiry_dates                           78.960604\n",
              "job_position_name                       0.000000\n",
              "educational_requirements                0.000000\n",
              "experiencere_requirement               14.291702\n",
              "age_requirement                        42.822716\n",
              "responsibilities.1                      0.000000\n",
              "skills_required                        17.822716\n",
              "matched_score                           0.000000\n",
              "dtype: float64"
            ]
          },
          "execution_count": 8,
          "metadata": {},
          "output_type": "execute_result"
        }
      ],
      "source": [
        "#Computing the null percentage for different fields\n",
        "missing_percentage = resume_data.isnull().sum() / len(resume_data) * 100\n",
        "\n",
        "missing_percentage"
      ]
    },
    {
      "cell_type": "code",
      "execution_count": null,
      "id": "8485b2a0-3ec5-40e8-ab1a-0094adac5a1f",
      "metadata": {
        "id": "8485b2a0-3ec5-40e8-ab1a-0094adac5a1f",
        "outputId": "d18bde49-f592-4bdc-991a-4a993bbbb9d3"
      },
      "outputs": [
        {
          "name": "stderr",
          "output_type": "stream",
          "text": [
            "/var/folders/bk/2rt82r897d5by239qbg9bx140000gn/T/ipykernel_26740/937189446.py:8: FutureWarning: \n",
            "\n",
            "Passing `palette` without assigning `hue` is deprecated and will be removed in v0.14.0. Assign the `y` variable to `hue` and set `legend=False` for the same effect.\n",
            "\n",
            "  sns.barplot(x=missing_pct.values, y=missing_pct.index, palette=\"magma\", legend = False)\n"
          ]
        },
        {
          "data": {
            "image/png": "[encoded data removed]",
            "text/plain": [
              "<Figure size 1000x600 with 1 Axes>"
            ]
          },
          "metadata": {},
          "output_type": "display_data"
        }
      ],
      "source": [
        "import seaborn as sns\n",
        "import matplotlib.pyplot as plt\n",
        "\n",
        "missing_pct = resume_data.isnull().mean().sort_values(ascending=False) * 100\n",
        "missing_pct = missing_pct[missing_pct > 0]\n",
        "\n",
        "plt.figure(figsize=(10, 6))\n",
        "sns.barplot(x=missing_pct.values, y=missing_pct.index, palette=\"magma\", legend = False)\n",
        "plt.xlabel(\"Percentage of Missing Values\")\n",
        "plt.title(\"Missing Data per Column\")\n",
        "plt.tight_layout()\n",
        "plt.show()"
      ]
    },
    {
      "cell_type": "code",
      "execution_count": null,
      "id": "fecb35da-6732-438c-a21d-70db0f797f1f",
      "metadata": {
        "id": "fecb35da-6732-438c-a21d-70db0f797f1f",
        "outputId": "9acc9a2a-5c41-4134-9ca5-9ec0601cadc6"
      },
      "outputs": [
        {
          "name": "stdout",
          "output_type": "stream",
          "text": [
            "Languages group null %: 92.66554903604359\n",
            "Extra-curricular group null %: 64.10310142497904\n",
            "Certification group null %: 78.96060352053647\n"
          ]
        }
      ],
      "source": [
        "def combined_null(df, columns):\n",
        "    all_null = df[columns].isnull().all(axis = 1)\n",
        "    return 100 * all_null.sum() / len(df)\n",
        "\n",
        "\n",
        "# 1. Languages group\n",
        "language_group = ['languages', 'proficiency_levels']\n",
        "print(\"Languages group null %:\", combined_null(resume_data, language_group))\n",
        "\n",
        "# 2. Extra-curricular group\n",
        "extra_curricular_group = [\n",
        "    'extra_curricular_activity_types',\n",
        "    'extra_curricular_organization_names',\n",
        "    'extra_curricular_organization_links',\n",
        "    'role_positions'\n",
        "]\n",
        "print(\"Extra-curricular group null %:\", combined_null(resume_data, extra_curricular_group))\n",
        "\n",
        "# 3. Certification group\n",
        "certification_group = [\n",
        "    'certification_providers',\n",
        "    'certification_skills',\n",
        "    'online_links',\n",
        "    'issue_dates',\n",
        "    'expiry_dates'\n",
        "]\n",
        "print(\"Certification group null %:\", combined_null(resume_data, certification_group))"
      ]
    },
    {
      "cell_type": "code",
      "execution_count": null,
      "id": "e7956d4f-269c-41d8-abad-c9a7766c3750",
      "metadata": {
        "id": "e7956d4f-269c-41d8-abad-c9a7766c3750",
        "outputId": "58ac05a2-a7ed-404f-89d4-f855cf0aa646"
      },
      "outputs": [
        {
          "data": {
            "text/plain": [
              "{\"['N/A']\",\n",
              " '[None, None, None, None, None, None, None, None, None, None, None, None, None, None, None, None, None, None]',\n",
              " '[None, None, None, None, None, None]',\n",
              " '[None, None, None, None]',\n",
              " '[None, None, None]',\n",
              " '[None, None]',\n",
              " '[None]',\n",
              " nan}"
            ]
          },
          "execution_count": 12,
          "metadata": {},
          "output_type": "execute_result"
        }
      ],
      "source": [
        "set(resume_data['online_links'])     #links are N/A or None can be dropped"
      ]
    },
    {
      "cell_type": "code",
      "execution_count": null,
      "id": "e1286e16-031c-4d3c-8c27-e14e59a0b538",
      "metadata": {
        "id": "e1286e16-031c-4d3c-8c27-e14e59a0b538",
        "outputId": "abfa7d25-b10d-4598-fb7f-8b142f5fe64a"
      },
      "outputs": [
        {
          "data": {
            "text/plain": [
              "'Retaining certfications column for its highere relevance for job fit and suggetsions'"
            ]
          },
          "execution_count": 14,
          "metadata": {},
          "output_type": "execute_result"
        }
      ],
      "source": [
        "\"\"\"Since language , profiency_levels and address are too sparse , we will be dropping them\"\"\"\n",
        "drop_columns = [\n",
        "    'languages', 'proficiency_levels',\n",
        "    'extra_curricular_activity_types', 'extra_curricular_organization_names',\n",
        "    'extra_curricular_organization_links', 'role_positions',\n",
        "    'address', 'online_links'\n",
        "]\n",
        "\n",
        "resume_data_updated = resume_data.drop(columns = drop_columns)\n",
        "\n",
        "\"\"\"Retaining certfications column for its highere relevance for job fit and suggestions\"\"\""
      ]
    },
    {
      "cell_type": "code",
      "execution_count": null,
      "id": "c44993c6-3e77-4126-9234-abe8b5ec4281",
      "metadata": {
        "scrolled": true,
        "id": "c44993c6-3e77-4126-9234-abe8b5ec4281",
        "outputId": "8c9487a4-7837-487c-d63a-34aabedaba0b"
      },
      "outputs": [
        {
          "name": "stdout",
          "output_type": "stream",
          "text": [
            "<class 'pandas.core.frame.DataFrame'>\n",
            "RangeIndex: 9544 entries, 0 to 9543\n",
            "Data columns (total 27 columns):\n",
            " #   Column                        Non-Null Count  Dtype  \n",
            "---  ------                        --------------  -----  \n",
            " 0   career_objective              4740 non-null   object \n",
            " 1   skills                        9488 non-null   object \n",
            " 2   educational_institution_name  9460 non-null   object \n",
            " 3   degree_names                  9460 non-null   object \n",
            " 4   passing_years                 9460 non-null   object \n",
            " 5   educational_results           9460 non-null   object \n",
            " 6   result_types                  9460 non-null   object \n",
            " 7   major_field_of_studies        9460 non-null   object \n",
            " 8   professional_company_names    9460 non-null   object \n",
            " 9   company_urls                  9460 non-null   object \n",
            " 10  start_dates                   9460 non-null   object \n",
            " 11  end_dates                     9460 non-null   object \n",
            " 12  related_skils_in_job          9460 non-null   object \n",
            " 13  positions                     9460 non-null   object \n",
            " 14  locations                     9460 non-null   object \n",
            " 15  responsibilities              9544 non-null   object \n",
            " 16  certification_providers       2008 non-null   object \n",
            " 17  certification_skills          2008 non-null   object \n",
            " 18  issue_dates                   2008 non-null   object \n",
            " 19  expiry_dates                  2008 non-null   object \n",
            " 20  job_position_name             9544 non-null   object \n",
            " 21  educational_requirements      9544 non-null   object \n",
            " 22  experiencere_requirement      8180 non-null   object \n",
            " 23  age_requirement               5457 non-null   object \n",
            " 24  responsibilities.1            9544 non-null   object \n",
            " 25  skills_required               7843 non-null   object \n",
            " 26  matched_score                 9544 non-null   float64\n",
            "dtypes: float64(1), object(26)\n",
            "memory usage: 2.0+ MB\n"
          ]
        }
      ],
      "source": [
        "resume_data_updated.info()"
      ]
    },
    {
      "cell_type": "code",
      "execution_count": null,
      "id": "9af933a8-0ee8-4f2d-b0ca-0252252d3088",
      "metadata": {
        "id": "9af933a8-0ee8-4f2d-b0ca-0252252d3088"
      },
      "outputs": [],
      "source": [
        "##Certifcication_providers, certification_skills, online_links, issue_dates, expiry_dates, urls"
      ]
    },
    {
      "cell_type": "code",
      "execution_count": null,
      "id": "41d67088-2a47-4376-8f44-08938f0dee74",
      "metadata": {
        "scrolled": true,
        "id": "41d67088-2a47-4376-8f44-08938f0dee74"
      },
      "outputs": [],
      "source": [
        "pd.set_option('display.max_columns', None)\n",
        "resume_data_updated[:2]"
      ]
    },
    {
      "cell_type": "code",
      "execution_count": null,
      "id": "6f436567-4a81-42cf-a875-e8abc10de5a4",
      "metadata": {
        "id": "6f436567-4a81-42cf-a875-e8abc10de5a4"
      },
      "outputs": [],
      "source": [
        "#Converting objects to strings for relevant fields\n",
        "list_columns = [\n",
        "    'skills', 'educational_institution_name', 'degree_names', 'passing_years',\n",
        "    'educational_results', 'result_types', 'major_field_of_studies',\n",
        "    'professional_company_names', 'company_urls', 'start_dates', 'end_dates',\n",
        "    'related_skils_in_job', 'positions', 'locations', 'certification_providers',\n",
        "    'certification_skills', 'issue_dates', 'expiry_dates'\n",
        "]\n",
        "\n",
        "for col in list_columns:\n",
        "    resume_data_updated[col] = resume_data_updated[col].apply(lambda x: ast.literal_eval(x) if pd.notnull(x) else x)"
      ]
    },
    {
      "cell_type": "code",
      "execution_count": null,
      "id": "9fb7bd67-73f4-46cb-99cb-40aba44b2ca3",
      "metadata": {
        "id": "9fb7bd67-73f4-46cb-99cb-40aba44b2ca3"
      },
      "outputs": [],
      "source": [
        "#Parsing dates to ensure date similarity\n",
        "import pandas as pd\n",
        "from dateutil import parser\n",
        "\n",
        "def parse_dates(date_list):\n",
        "    \"\"\"Parses a list of date strings into Timestamp objects, handling 'Present' values.\"\"\"\n",
        "    parsed_dates = []\n",
        "    if isinstance(date_list, list):\n",
        "        for date in date_list:\n",
        "            if pd.isna(date):\n",
        "                parsed_dates.append(None)\n",
        "            elif isinstance(date, str):\n",
        "                if date.lower() not in ['n/a', 'till date', 'current', 'present', 'ongoing']:\n",
        "                    try:\n",
        "                        dt = parser.parse(date, fuzzy=True)\n",
        "                        parsed_dates.append(pd.Timestamp(year=dt.year, month=dt.month, day=1))\n",
        "                    except Exception:\n",
        "                        parsed_dates.append(None)\n",
        "                else:\n",
        "                    parsed_dates.append(pd.Timestamp.today())\n",
        "            else:\n",
        "                parsed_dates.append(None)\n",
        "    else:\n",
        "        parsed_dates.append(None)\n",
        "    return parsed_dates\n",
        "\n",
        "resume_data_updated['start_dates'] = resume_data_updated['start_dates'].apply(parse_dates)\n",
        "resume_data_updated['end_dates'] = resume_data_updated['end_dates'].apply(parse_dates)\n"
      ]
    },
    {
      "cell_type": "code",
      "execution_count": null,
      "id": "469268f3-1641-4b36-b6ca-49294354f44d",
      "metadata": {
        "id": "469268f3-1641-4b36-b6ca-49294354f44d"
      },
      "outputs": [],
      "source": [
        "def compute_total_experience(start_dates, end_dates):\n",
        "    total_months = 0\n",
        "    if isinstance(start_dates, list) and isinstance(end_dates, list):\n",
        "        for start, end in zip(start_dates, end_dates):                           #grouping start and end dtaes together to computet experience\n",
        "            if pd.notna(start) and pd.notna(end):\n",
        "                months = (end.year - start.year) * 12 + (end.month - start.month)\n",
        "                if months > 0:\n",
        "                    total_months += months\n",
        "    return round(total_months / 12, 2)                           # in years\n",
        "resume_data_updated['experience_years'] = resume_data_updated.apply(lambda row: compute_total_experience(row['start_dates'], row['end_dates']), axis=1)\n",
        "\n",
        "\n"
      ]
    },
    {
      "cell_type": "code",
      "execution_count": null,
      "id": "c413634d-abbf-4237-ac87-b0c8a33ca202",
      "metadata": {
        "id": "c413634d-abbf-4237-ac87-b0c8a33ca202"
      },
      "outputs": [],
      "source": [
        "#Converting Job Roles to Categorical Value\n",
        "resume_data_updated['job_position_name'] = resume_data_updated['job_position_name'].str.strip()\n",
        "\n",
        "resume_data_updated['job_position_name'] = resume_data_updated['job_position_name'].astype('category')"
      ]
    },
    {
      "cell_type": "code",
      "execution_count": null,
      "id": "4c521cbe-5d07-4a47-8954-96ce710988e7",
      "metadata": {
        "id": "4c521cbe-5d07-4a47-8954-96ce710988e7",
        "outputId": "e7823aa8-25b2-428f-db0d-e39ac9f06b1b"
      },
      "outputs": [
        {
          "name": "stdout",
          "output_type": "stream",
          "text": [
            "<class 'pandas.core.frame.DataFrame'>\n",
            "RangeIndex: 9544 entries, 0 to 9543\n",
            "Data columns (total 28 columns):\n",
            " #   Column                        Non-Null Count  Dtype   \n",
            "---  ------                        --------------  -----   \n",
            " 0   career_objective              4740 non-null   object  \n",
            " 1   skills                        9488 non-null   object  \n",
            " 2   educational_institution_name  9460 non-null   object  \n",
            " 3   degree_names                  9460 non-null   object  \n",
            " 4   passing_years                 9460 non-null   object  \n",
            " 5   educational_results           9460 non-null   object  \n",
            " 6   result_types                  9460 non-null   object  \n",
            " 7   major_field_of_studies        9460 non-null   object  \n",
            " 8   professional_company_names    9460 non-null   object  \n",
            " 9   company_urls                  9460 non-null   object  \n",
            " 10  start_dates                   9544 non-null   object  \n",
            " 11  end_dates                     9544 non-null   object  \n",
            " 12  related_skils_in_job          9460 non-null   object  \n",
            " 13  positions                     9460 non-null   object  \n",
            " 14  locations                     9460 non-null   object  \n",
            " 15  responsibilities              9544 non-null   object  \n",
            " 16  certification_providers       2008 non-null   object  \n",
            " 17  certification_skills          2008 non-null   object  \n",
            " 18  issue_dates                   2008 non-null   object  \n",
            " 19  expiry_dates                  2008 non-null   object  \n",
            " 20  job_position_name             9544 non-null   category\n",
            " 21  educational_requirements      9544 non-null   object  \n",
            " 22  experiencere_requirement      8180 non-null   object  \n",
            " 23  age_requirement               5457 non-null   object  \n",
            " 24  responsibilities.1            9544 non-null   object  \n",
            " 25  skills_required               7843 non-null   object  \n",
            " 26  matched_score                 9544 non-null   float64 \n",
            " 27  experience_years              9544 non-null   float64 \n",
            "dtypes: category(1), float64(2), object(25)\n",
            "memory usage: 2.0+ MB\n"
          ]
        }
      ],
      "source": [
        "resume_data_updated.info()"
      ]
    },
    {
      "cell_type": "code",
      "execution_count": null,
      "id": "9a22c75c-7dca-420e-af1b-3a9ddecedfc3",
      "metadata": {
        "id": "9a22c75c-7dca-420e-af1b-3a9ddecedfc3"
      },
      "outputs": [],
      "source": [
        "resume_data_updated"
      ]
    },
    {
      "cell_type": "code",
      "execution_count": null,
      "id": "ecee54a0-c759-4a02-932a-28ecc7f9e9bb",
      "metadata": {
        "id": "ecee54a0-c759-4a02-932a-28ecc7f9e9bb"
      },
      "outputs": [],
      "source": [
        "#Cleaning list values in the dataset\n",
        "def clean_list_values(lst):\n",
        "    if isinstance(lst, list):\n",
        "        cleaned = []\n",
        "        for x in lst:\n",
        "            try:\n",
        "                # Skip empty arrays or ambiguous objects\n",
        "                if isinstance(x, (np.ndarray, list)) and len(x) == 0:\n",
        "                    continue\n",
        "                if pd.notna(x) and isinstance(x, str):\n",
        "                    x_clean = x.strip().lower()\n",
        "                    if x_clean not in ['n/a', 'none', '', ' ']:\n",
        "                        cleaned.append(x_clean)\n",
        "                elif pd.notna(x):\n",
        "                    cleaned.append(x)  # Keep non-string valid types\n",
        "            except:\n",
        "                continue\n",
        "        return cleaned\n",
        "    return []\n",
        "\n",
        "list_columns = ['skills', 'degree_names', 'positions', 'related_skils_in_job', 'educational_institution_name', 'educational_results', 'result_types', 'professional_company_names', 'major_field_of_studies']\n",
        "\n",
        "for col in list_columns:\n",
        "    resume_data_updated[col] = resume_data_updated[col].apply(clean_list_values)\n",
        "\n"
      ]
    },
    {
      "cell_type": "code",
      "execution_count": null,
      "id": "828b3108-92af-4eab-950e-b670a52ae970",
      "metadata": {
        "scrolled": true,
        "id": "828b3108-92af-4eab-950e-b670a52ae970",
        "outputId": "f0116596-ff7c-4aaa-f081-011f86f4877a"
      },
      "outputs": [
        {
          "data": {
            "text/plain": [
              "job_position_name\n",
              "Civil Engineer                                                                             342\n",
              "Site Engineer                                                                              342\n",
              "Project Coordinator (Civil)                                                                342\n",
              "HR Officer                                                                                 342\n",
              "AI Engineer                                                                                341\n",
              "Asst. Manager/ Manger (Administrative)                                                     341\n",
              "Sr.Officer / Executive - Internal Audit                                                    341\n",
              "Senior Software Engineer                                                                   341\n",
              "Network Support Engineer                                                                   341\n",
              "Mechanical Engineer                                                                        341\n",
              "Mechanical Designer                                                                        341\n",
              "Marketing Officer                                                                          341\n",
              "Manager- Human Resource Management (HRM)                                                   341\n",
              "Management Trainee - Mechanical                                                            341\n",
              "System Administrator (Operation & Maintenance of Server, Storage & Service Desk System)    341\n",
              "Head of Internal Control & Compliance (ICC) - SEVP/DMD                                     341\n",
              "Executive/ Senior Executive- Trade Marketing, Hygiene Products                             341\n",
              "Executive - VAT                                                                            341\n",
              "Database Administrator (DBA)                                                               341\n",
              "Business Development Executive                                                             341\n",
              "Machine Learning (ML) Engineer                                                             340\n",
              "Full Stack Developer (Python,React js)                                                     340\n",
              "Executive/ Sr. Executive -IT                                                               340\n",
              "DevOps Engineer                                                                            340\n",
              "Data Science Engineer                                                                      340\n",
              "Senior iOS Engineer                                                                        340\n",
              "Data Engineer                                                                              340\n",
              "Intern (Generative AI Engineering - 2D/3D Image Generation)                                340\n",
              "Name: count, dtype: int64"
            ]
          },
          "execution_count": 32,
          "metadata": {},
          "output_type": "execute_result"
        }
      ],
      "source": [
        "resume_data_updated['job_position_name'].value_counts()"
      ]
    },
    {
      "cell_type": "code",
      "execution_count": null,
      "id": "10873bae-c79b-44cc-8c7b-7de9aaadf178",
      "metadata": {
        "id": "10873bae-c79b-44cc-8c7b-7de9aaadf178"
      },
      "outputs": [],
      "source": [
        "#Considering roles that are relevant to the IT industry\n",
        "relevant_roles = [\n",
        "    'AI Engineer',\n",
        "    'Senior Software Engineer',\n",
        "    'Network Support Engineer',\n",
        "    'System Administrator (Operation & Maintenance of Server, Storage & Service Desk System)',\n",
        "    'Database Administrator (DBA)',\n",
        "    'Business Development Executive',\n",
        "    'Machine Learning (ML) Engineer',\n",
        "    'Full Stack Developer (Python,React js)',\n",
        "    'Executive/ Sr. Executive -IT',\n",
        "    'DevOps Engineer',\n",
        "    'Data Science Engineer',\n",
        "    'Senior iOS Engineer',\n",
        "    'Data Engineer',\n",
        "    'Intern (Generative AI Engineering - 2D/3D Image Generation)'\n",
        "]\n",
        "\n",
        "resume_data_updatedroles = resume_data_updated[resume_data_updated['job_position_name'].isin(relevant_roles)].copy()\n",
        "\n"
      ]
    },
    {
      "cell_type": "code",
      "execution_count": null,
      "id": "872167de-69c7-430d-8ed7-cf4fdeef7a77",
      "metadata": {
        "id": "872167de-69c7-430d-8ed7-cf4fdeef7a77",
        "outputId": "a81ba6cf-9398-4fc6-b65c-a1837a0333ef"
      },
      "outputs": [
        {
          "data": {
            "text/plain": [
              "career_objective                2398\n",
              "skills                             0\n",
              "educational_institution_name       0\n",
              "degree_names                       0\n",
              "passing_years                     42\n",
              "educational_results                0\n",
              "result_types                       0\n",
              "major_field_of_studies             0\n",
              "professional_company_names         0\n",
              "company_urls                      42\n",
              "start_dates                        0\n",
              "end_dates                          0\n",
              "related_skils_in_job               0\n",
              "positions                          0\n",
              "locations                         42\n",
              "responsibilities                   0\n",
              "certification_providers         3760\n",
              "certification_skills            3760\n",
              "issue_dates                     3760\n",
              "expiry_dates                    3760\n",
              "job_position_name                  0\n",
              "educational_requirements           0\n",
              "experiencere_requirement         681\n",
              "age_requirement                 2723\n",
              "responsibilities.1                 0\n",
              "skills_required                 1701\n",
              "matched_score                      0\n",
              "experience_years                   0\n",
              "dtype: int64"
            ]
          },
          "execution_count": 36,
          "metadata": {},
          "output_type": "execute_result"
        }
      ],
      "source": [
        "resume_data_updatedroles.isnull().sum()"
      ]
    },
    {
      "cell_type": "code",
      "execution_count": null,
      "id": "a2953adb-e1d4-472c-ba11-13a02c7ea7fd",
      "metadata": {
        "id": "a2953adb-e1d4-472c-ba11-13a02c7ea7fd"
      },
      "outputs": [],
      "source": [
        "set(resume_data_updatedroles['company_urls'].explode())"
      ]
    },
    {
      "cell_type": "code",
      "execution_count": null,
      "id": "fd645d87-0551-412d-8e6b-01b8b9801e7b",
      "metadata": {
        "id": "fd645d87-0551-412d-8e6b-01b8b9801e7b"
      },
      "outputs": [],
      "source": [
        "set(resume_data_updatedroles['locations'].explode())"
      ]
    },
    {
      "cell_type": "code",
      "execution_count": null,
      "id": "d11b1a4d-caaf-466e-8a86-d959246b4a37",
      "metadata": {
        "id": "d11b1a4d-caaf-466e-8a86-d959246b4a37"
      },
      "outputs": [],
      "source": [
        "set(resume_data_updatedroles['age_requirement'])"
      ]
    },
    {
      "cell_type": "code",
      "execution_count": null,
      "id": "64baaffc-9773-42ff-bb9b-b405808c5dd6",
      "metadata": {
        "id": "64baaffc-9773-42ff-bb9b-b405808c5dd6"
      },
      "outputs": [],
      "source": [
        "resume_data_updatedroles['age_requirement'].value_counts()"
      ]
    },
    {
      "cell_type": "code",
      "execution_count": null,
      "id": "237055dc-5cf2-48b1-ab77-44e0fc049c1c",
      "metadata": {
        "id": "237055dc-5cf2-48b1-ab77-44e0fc049c1c"
      },
      "outputs": [],
      "source": [
        "#Since candidate age could involve apotential bias with selection we will be dropping it."
      ]
    },
    {
      "cell_type": "code",
      "execution_count": null,
      "id": "70dff860-7672-4ab1-b9e6-90132eb1e596",
      "metadata": {
        "id": "70dff860-7672-4ab1-b9e6-90132eb1e596",
        "outputId": "0a4ce116-ea3a-41f3-ec29-65ba2112a86b"
      },
      "outputs": [
        {
          "data": {
            "text/plain": [
              "experiencere_requirement\n",
              "At least 1 year       682\n",
              "At least 3 years      681\n",
              "1 to 3 years          341\n",
              "4 to 5 years          341\n",
              "At least 5 year(s)    340\n",
              "At least 4 years      340\n",
              "3 to 5 years          340\n",
              "5 to 8 years          340\n",
              "3 to 7 years          340\n",
              "At least 2 years      340\n",
              "Name: count, dtype: int64"
            ]
          },
          "execution_count": 38,
          "metadata": {},
          "output_type": "execute_result"
        }
      ],
      "source": [
        "resume_data_updatedroles['experiencere_requirement'].value_counts()"
      ]
    },
    {
      "cell_type": "code",
      "execution_count": null,
      "id": "bdfb85ae-c7ce-444f-b9ab-3d88a34b2ea4",
      "metadata": {
        "id": "bdfb85ae-c7ce-444f-b9ab-3d88a34b2ea4"
      },
      "outputs": [],
      "source": [
        "#Adjusting to int value:\n",
        "import re\n",
        "\n",
        "def extract_min_experience(exp_text):\n",
        "    if isinstance(exp_text, str):\n",
        "        numbers = re.findall(r'\\d+', exp_text)\n",
        "        if numbers:\n",
        "            return int(min(map(int, numbers)))\n",
        "    return 0\n",
        "\n",
        "resume_data_updatedroles['min_experiencere_requirement'] = resume_data_updatedroles['experiencere_requirement'].apply(extract_min_experience)\n"
      ]
    },
    {
      "cell_type": "code",
      "execution_count": null,
      "id": "ebca58aa-0f59-491c-8a02-7b245f35a11a",
      "metadata": {
        "scrolled": true,
        "id": "ebca58aa-0f59-491c-8a02-7b245f35a11a",
        "outputId": "ff351fde-d13f-4e52-e4ac-025148db70df"
      },
      "outputs": [
        {
          "data": {
            "text/plain": [
              "min_experiencere_requirement\n",
              "3    1361\n",
              "1    1023\n",
              "4     681\n",
              "0     681\n",
              "5     680\n",
              "2     340\n",
              "Name: count, dtype: int64"
            ]
          },
          "execution_count": 42,
          "metadata": {},
          "output_type": "execute_result"
        }
      ],
      "source": [
        "resume_data_updatedroles['min_experiencere_requirement'].value_counts()"
      ]
    },
    {
      "cell_type": "code",
      "execution_count": null,
      "id": "0debc42d-7663-4b01-bb18-af8402d2be14",
      "metadata": {
        "id": "0debc42d-7663-4b01-bb18-af8402d2be14"
      },
      "outputs": [],
      "source": [
        "# Can drop experiencere requirement"
      ]
    },
    {
      "cell_type": "code",
      "execution_count": null,
      "id": "6c7a6b39-6113-4827-a5c0-664d500bb3ef",
      "metadata": {
        "id": "6c7a6b39-6113-4827-a5c0-664d500bb3ef",
        "outputId": "43da60c6-393b-4d01-e904-cce02b906a6f"
      },
      "outputs": [
        {
          "data": {
            "text/plain": [
              "passing_years\n",
              "[2019]                                                                                                 714\n",
              "[2020]                                                                                                 532\n",
              "[2017, 2019]                                                                                           224\n",
              "[N/A]                                                                                                  210\n",
              "[2018]                                                                                                 210\n",
              "[2021]                                                                                                 182\n",
              "[2018, 2020]                                                                                           140\n",
              "[None]                                                                                                 112\n",
              "[N/A, N/A]                                                                                              98\n",
              "[2019, 2021]                                                                                            70\n",
              "[None, None]                                                                                            70\n",
              "[N/A, N/A, N/A]                                                                                         42\n",
              "[2020, 2016]                                                                                            42\n",
              "[2010]                                                                                                  42\n",
              "[None, None, None]                                                                                      42\n",
              "[2015]                                                                                                  42\n",
              "[2006]                                                                                                  42\n",
              "[2013]                                                                                                  28\n",
              "[current]                                                                                               28\n",
              "[1996]                                                                                                  28\n",
              "[2009]                                                                                                  28\n",
              "[2002]                                                                                                  28\n",
              "[2012]                                                                                                  28\n",
              "[2005]                                                                                                  28\n",
              "[1990]                                                                                                  18\n",
              "[2014, 2013]                                                                                            14\n",
              "[Current]                                                                                               14\n",
              "[1988, 87, 2016]                                                                                        14\n",
              "[2014, 2009, 2008, 2016, 2014, 2013]                                                                    14\n",
              "[05/2013]                                                                                               14\n",
              "[Month and Year Received/Expected]                                                                      14\n",
              "[May 2006]                                                                                              14\n",
              "[2015, 2011]                                                                                            14\n",
              "[2001, N/A, N/A]                                                                                        14\n",
              "[N/A, July 2010, June 1998, April 2011]                                                                 14\n",
              "[2012, 2010]                                                                                            14\n",
              "[May 2016, July 2013]                                                                                   14\n",
              "[2009, 2004, 2001, 2000]                                                                                14\n",
              "[1981, 1980, 1983]                                                                                      14\n",
              "[2010, 2004, 1997]                                                                                      14\n",
              "[2013, September, 2013]                                                                                 14\n",
              "[2011, 2007]                                                                                            14\n",
              "[2011, N/A, 2008, 2002]                                                                                 14\n",
              "[2004-12-18, 2001-12-15, 1994-05-15]                                                                    14\n",
              "[N/A, N/A, 1993]                                                                                        14\n",
              "[1983, 1990, 2011]                                                                                      14\n",
              "[Present, N/A]                                                                                          14\n",
              "[2010, 2020, 1993]                                                                                      14\n",
              "[06/2013, None]                                                                                         14\n",
              "[12/2014]                                                                                               14\n",
              "[2018, 2021]                                                                                            14\n",
              "[August 2015, April 2014]                                                                               14\n",
              "[1991, 1987]                                                                                            14\n",
              "[2023, 2021]                                                                                            14\n",
              "[June 2009, June 2000]                                                                                  14\n",
              "[2003, 1993, 1983]                                                                                      14\n",
              "[1994, N/A]                                                                                             14\n",
              "[09/2000, 02/2002, 03/2002, 05/2002, 08/2002, 08/2003, 09/2009, 02/2010, 01/2011, 02/2015, 02/2019]     14\n",
              "[2014]                                                                                                  14\n",
              "[N/A, 2014]                                                                                             14\n",
              "[2014, 1993]                                                                                            14\n",
              "[2017, N/A]                                                                                             14\n",
              "[1997, Present]                                                                                         14\n",
              "[December 2012, May 2011]                                                                               14\n",
              "[1999, 1994]                                                                                            14\n",
              "[2017, 2010, 2004]                                                                                      14\n",
              "[2014, 2010]                                                                                            14\n",
              "[2014, 2006, None]                                                                                      14\n",
              "[05/2015]                                                                                               14\n",
              "[2014, 1993, None]                                                                                      14\n",
              "[None, None, 1984]                                                                                      14\n",
              "[2007, 2004]                                                                                            14\n",
              "[December 2014, June 2004]                                                                              14\n",
              "[1999]                                                                                                  14\n",
              "[2016, 2011]                                                                                            14\n",
              "[2014, 2014, 2013, 2011, 2007, 2004, 2006, 2003, N/A]                                                   14\n",
              "[2008, 2006]                                                                                            14\n",
              "[January 2014, December 2009]                                                                           14\n",
              "[2017, 2003, 1997]                                                                                      14\n",
              "[Dec 2014, Aug 2011]                                                                                    14\n",
              "[Dec 2016, December 2013]                                                                               14\n",
              "[2011, 2008]                                                                                            14\n",
              "[2016, N/A]                                                                                             14\n",
              "[2004, 1992]                                                                                            14\n",
              "[2005, 2002]                                                                                            14\n",
              "[2006, 1992]                                                                                            14\n",
              "[1990, 1989]                                                                                            14\n",
              "[2010, 2004, 2003]                                                                                      14\n",
              "[Present, 2008]                                                                                         14\n",
              "[Present, June 2015, May 2011]                                                                          14\n",
              "[2008, 2004]                                                                                            14\n",
              "[2001, 2010, 1987, 2007, 1990]                                                                          14\n",
              "[2012, 2001, N/A]                                                                                       14\n",
              "[1978]                                                                                                  14\n",
              "[1986, None]                                                                                            14\n",
              "[2015, 2012]                                                                                            14\n",
              "[2019, 2019]                                                                                            14\n",
              "[2010, 2010]                                                                                            14\n",
              "[20XX]                                                                                                  14\n",
              "[2000]                                                                                                  14\n",
              "[1995, 1992]                                                                                            14\n",
              "[current, 2016]                                                                                         14\n",
              "[2001, 1991]                                                                                            14\n",
              "[1996, None]                                                                                            14\n",
              "[2020, 2018]                                                                                            14\n",
              "[2012, 2017]                                                                                            14\n",
              "[Expected Spring 2014]                                                                                  14\n",
              "[2005, 1997]                                                                                            14\n",
              "[2025]                                                                                                  14\n",
              "[2017, 2013, 2010]                                                                                      14\n",
              "[2017]                                                                                                  14\n",
              "[May 2004, May 1998]                                                                                    14\n",
              "[2016, 2019]                                                                                            14\n",
              "[2008]                                                                                                  14\n",
              "[2010, 2007]                                                                                            14\n",
              "[2017, 2020]                                                                                            14\n",
              "[None, 2011, 2007, 2005, 2001]                                                                          14\n",
              "[June 2017, February 2014]                                                                              14\n",
              "[1980, 1977]                                                                                            14\n",
              "[2023, 2019, 2017]                                                                                      14\n",
              "[2008, 2005]                                                                                            14\n",
              "[2002, 2004]                                                                                            14\n",
              "[2003, 2013, 2015]                                                                                      14\n",
              "[2005, 2010, 2012]                                                                                      14\n",
              "[Expected May 2010]                                                                                     14\n",
              "[2015, 2018]                                                                                            14\n",
              "[2016, 2012, 2006, 2006]                                                                                14\n",
              "[2016]                                                                                                  14\n",
              "[1988]                                                                                                  14\n",
              "[2017, 2014]                                                                                            14\n",
              "[2015, 2004, 2003, 1985]                                                                                14\n",
              "[June 2015]                                                                                             14\n",
              "[2015, 2008, 2004]                                                                                      14\n",
              "[N/A, 1996]                                                                                             14\n",
              "[2015, 2006, 2003]                                                                                      14\n",
              "[2007]                                                                                                  14\n",
              "[1991, N/A]                                                                                             14\n",
              "[2010, 2009]                                                                                            14\n",
              "[2023, 2017, 2015]                                                                                      14\n",
              "[N/A, 1]                                                                                                14\n",
              "[2006, 2010]                                                                                            14\n",
              "[2006, 2000]                                                                                            14\n",
              "[20xx]                                                                                                  14\n",
              "[2009, N/A]                                                                                             14\n",
              "[2004, 1995]                                                                                            14\n",
              "[2010, 1991]                                                                                            12\n",
              "[2013, 2011, N/A]                                                                                        4\n",
              "Name: count, dtype: int64"
            ]
          },
          "execution_count": 46,
          "metadata": {},
          "output_type": "execute_result"
        }
      ],
      "source": [
        "pd.set_option('display.max_rows', None)\n",
        "resume_data_updatedroles['passing_years'].value_counts()"
      ]
    },
    {
      "cell_type": "code",
      "execution_count": null,
      "id": "680f9471-7228-41b7-be44-8ea7d28e47fe",
      "metadata": {
        "scrolled": true,
        "id": "680f9471-7228-41b7-be44-8ea7d28e47fe"
      },
      "outputs": [],
      "source": [
        "from dateutil import parser\n",
        "from datetime import datetime\n",
        "\n",
        "def clean_passing_years(year_list):\n",
        "    if not isinstance(year_list, list):\n",
        "        return None\n",
        "\n",
        "    cleaned_years = []\n",
        "    current_year = datetime.today().year\n",
        "\n",
        "    for item in year_list:\n",
        "        # Handle Python None or NaN directly\n",
        "        if item is None or (isinstance(item, float) and np.isnan(item)):\n",
        "            continue\n",
        "\n",
        "        item_str = str(item).strip().lower()\n",
        "\n",
        "        # Handle 'present', 'current', etc.\n",
        "        if item_str in ['present', 'current', 'ongoing']:\n",
        "            cleaned_years.append(current_year)\n",
        "            continue\n",
        "\n",
        "        # Handle known bad formats or placeholders\n",
        "        if item_str in ['n/a', 'na', 'expected', '20xx', 'month and year received/expected']:\n",
        "            continue\n",
        "\n",
        "        # Match exact year (like \"2019\")\n",
        "        if re.match(r'^(19|20)\\d{2}$', item_str):\n",
        "            cleaned_years.append(int(item_str))\n",
        "            continue\n",
        "\n",
        "        # Attempt parsing partial dates (e.g., \"May 2014\")\n",
        "        try:\n",
        "            dt = parser.parse(item_str, fuzzy=True)\n",
        "            year = dt.year\n",
        "            if 1900 <= year <= current_year:\n",
        "                cleaned_years.append(year)\n",
        "        except:\n",
        "            continue\n",
        "\n",
        "    return cleaned_years if cleaned_years else None\n",
        "\n",
        "resume_data_updatedroles['passing_years'] = resume_data_updatedroles['passing_years'].apply(clean_passing_years)"
      ]
    },
    {
      "cell_type": "code",
      "execution_count": null,
      "id": "7ff398e0-a3ce-43c2-bebc-49fbfba93d25",
      "metadata": {
        "scrolled": true,
        "id": "7ff398e0-a3ce-43c2-bebc-49fbfba93d25",
        "outputId": "d6318172-87b9-44e3-e499-f1dd04c4a9f9"
      },
      "outputs": [
        {
          "data": {
            "text/plain": [
              "passing_years\n",
              "[2019]                                                                714\n",
              "None                                                                  658\n",
              "[2020]                                                                532\n",
              "[2017, 2019]                                                          224\n",
              "[2018]                                                                210\n",
              "[2021]                                                                182\n",
              "[2018, 2020]                                                          140\n",
              "[2025]                                                                 84\n",
              "[2015]                                                                 70\n",
              "[2019, 2021]                                                           70\n",
              "[2013]                                                                 56\n",
              "[2014]                                                                 56\n",
              "[2006]                                                                 56\n",
              "[2010]                                                                 56\n",
              "[1996]                                                                 56\n",
              "[2020, 2016]                                                           42\n",
              "[2009]                                                                 42\n",
              "[2017, 2014]                                                           28\n",
              "[2016]                                                                 28\n",
              "[2002]                                                                 28\n",
              "[2016, 2013]                                                           28\n",
              "[2014, 1993]                                                           28\n",
              "[2005]                                                                 28\n",
              "[2017]                                                                 28\n",
              "[2012]                                                                 28\n",
              "[1990]                                                                 18\n",
              "[1988, 1987, 2016]                                                     14\n",
              "[2010, 2020, 1993]                                                     14\n",
              "[2010, 1998, 2011]                                                     14\n",
              "[1983, 1990, 2011]                                                     14\n",
              "[1993]                                                                 14\n",
              "[2004, 2001, 1994]                                                     14\n",
              "[2015, 2011]                                                           14\n",
              "[2013, 2013]                                                           14\n",
              "[2011, 2007]                                                           14\n",
              "[2014, 2013]                                                           14\n",
              "[2012, 2010]                                                           14\n",
              "[2011, 2008, 2002]                                                     14\n",
              "[2009, 2004, 2001, 2000]                                               14\n",
              "[1981, 1980, 1983]                                                     14\n",
              "[2015, 2014]                                                           14\n",
              "[2010, 2004, 1997]                                                     14\n",
              "[2001]                                                                 14\n",
              "[2014, 2009]                                                           14\n",
              "[1991, 1987]                                                           14\n",
              "[2011, 2008]                                                           14\n",
              "[2023, 2021]                                                           14\n",
              "[2009, 2000]                                                           14\n",
              "[2003, 1993, 1983]                                                     14\n",
              "[1994]                                                                 14\n",
              "[2000, 2002, 2002, 2002, 2002, 2003, 2009, 2010, 2011, 2015, 2019]     14\n",
              "[1997, 2025]                                                           14\n",
              "[2012, 2011]                                                           14\n",
              "[1999, 1994]                                                           14\n",
              "[2017, 2010, 2004]                                                     14\n",
              "[2014, 2010]                                                           14\n",
              "[2014, 2006]                                                           14\n",
              "[1984]                                                                 14\n",
              "[2007, 2004]                                                           14\n",
              "[2014, 2004]                                                           14\n",
              "[1999]                                                                 14\n",
              "[2016, 2011]                                                           14\n",
              "[2014, 2014, 2013, 2011, 2007, 2004, 2006, 2003]                       14\n",
              "[2008, 2006]                                                           14\n",
              "[2017, 2003, 1997]                                                     14\n",
              "[2018, 2021]                                                           14\n",
              "[2014, 2011]                                                           14\n",
              "[2014, 2009, 2008, 2016, 2014, 2013]                                   14\n",
              "[2004, 1992]                                                           14\n",
              "[2005, 2002]                                                           14\n",
              "[1995, 1992]                                                           14\n",
              "[2025, 2008]                                                           14\n",
              "[2025, 2015, 2011]                                                     14\n",
              "[2008, 2004]                                                           14\n",
              "[2001, 2010, 1987, 2007, 1990]                                         14\n",
              "[2012, 2001]                                                           14\n",
              "[1978]                                                                 14\n",
              "[1986]                                                                 14\n",
              "[2015, 2012]                                                           14\n",
              "[2019, 2019]                                                           14\n",
              "[2010, 2010]                                                           14\n",
              "[2006, 1992]                                                           14\n",
              "[2000]                                                                 14\n",
              "[2025, 2016]                                                           14\n",
              "[2001, 1991]                                                           14\n",
              "[2020, 2018]                                                           14\n",
              "[2012, 2017]                                                           14\n",
              "[2005, 1997]                                                           14\n",
              "[2017, 2013, 2010]                                                     14\n",
              "[2004, 1998]                                                           14\n",
              "[2016, 2019]                                                           14\n",
              "[2008]                                                                 14\n",
              "[2010, 2004, 2003]                                                     14\n",
              "[1990, 1989]                                                           14\n",
              "[2010, 2007]                                                           14\n",
              "[2017, 2020]                                                           14\n",
              "[1980, 1977]                                                           14\n",
              "[2023, 2019, 2017]                                                     14\n",
              "[2008, 2005]                                                           14\n",
              "[2002, 2004]                                                           14\n",
              "[2003, 2013, 2015]                                                     14\n",
              "[2005, 2010, 2012]                                                     14\n",
              "[2015, 2018]                                                           14\n",
              "[2016, 2012, 2006, 2006]                                               14\n",
              "[1988]                                                                 14\n",
              "[2015, 2004, 2003, 1985]                                               14\n",
              "[2015, 2008, 2004]                                                     14\n",
              "[2015, 2006, 2003]                                                     14\n",
              "[2007]                                                                 14\n",
              "[1991]                                                                 14\n",
              "[2010, 2009]                                                           14\n",
              "[2023, 2017, 2015]                                                     14\n",
              "[2006, 2010]                                                           14\n",
              "[2006, 2000]                                                           14\n",
              "[2011, 2007, 2005, 2001]                                               14\n",
              "[2004, 1995]                                                           14\n",
              "[2010, 1991]                                                           12\n",
              "[2013, 2011]                                                            4\n",
              "Name: count, dtype: int64"
            ]
          },
          "execution_count": 52,
          "metadata": {},
          "output_type": "execute_result"
        }
      ],
      "source": [
        "pd.set_option('display.max_rows', None)\n",
        "resume_data_updatedroles['passing_years'].value_counts(dropna=False)"
      ]
    },
    {
      "cell_type": "code",
      "execution_count": null,
      "id": "91969669-57a1-494f-b36b-d888d6e76ec3",
      "metadata": {
        "id": "91969669-57a1-494f-b36b-d888d6e76ec3"
      },
      "outputs": [],
      "source": [
        "resume_data_updatedroles = resume_data_updatedroles.drop(columns=['experiencere_requirement', 'age_requirement', 'company_urls'])"
      ]
    },
    {
      "cell_type": "code",
      "execution_count": null,
      "id": "1ec26560-1f08-4a91-bd27-c702f10e251b",
      "metadata": {
        "id": "1ec26560-1f08-4a91-bd27-c702f10e251b"
      },
      "outputs": [],
      "source": [
        "#Dropping start and end dates in the dataframe as the timelines are saved in the experience years column\n",
        "resume_data_updatedroles = resume_data_updatedroles.drop(columns=['start_dates', 'end_dates'])"
      ]
    },
    {
      "cell_type": "code",
      "execution_count": null,
      "id": "1030d49c-b2aa-488b-8c4f-36ffcc513af7",
      "metadata": {
        "id": "1030d49c-b2aa-488b-8c4f-36ffcc513af7",
        "outputId": "54fda8f7-f7e2-409b-8747-2aba02a34711"
      },
      "outputs": [
        {
          "name": "stdout",
          "output_type": "stream",
          "text": [
            "<class 'pandas.core.frame.DataFrame'>\n",
            "Index: 4766 entries, 0 to 9540\n",
            "Data columns (total 21 columns):\n",
            " #   Column                        Non-Null Count  Dtype   \n",
            "---  ------                        --------------  -----   \n",
            " 0   career_objective              2368 non-null   object  \n",
            " 1   skills                        4766 non-null   object  \n",
            " 2   degree_names                  4766 non-null   object  \n",
            " 3   passing_years                 4108 non-null   object  \n",
            " 4   educational_results           4766 non-null   object  \n",
            " 5   result_types                  4766 non-null   object  \n",
            " 6   major_field_of_studies        4766 non-null   object  \n",
            " 7   related_skils_in_job          4766 non-null   object  \n",
            " 8   positions                     4766 non-null   object  \n",
            " 9   responsibilities              4766 non-null   object  \n",
            " 10  certification_providers       1006 non-null   object  \n",
            " 11  certification_skills          1006 non-null   object  \n",
            " 12  issue_dates                   1006 non-null   object  \n",
            " 13  expiry_dates                  1006 non-null   object  \n",
            " 14  job_position_name             4766 non-null   category\n",
            " 15  educational_requirements      4766 non-null   object  \n",
            " 16  responsibilities.1            4766 non-null   object  \n",
            " 17  skills_required               3065 non-null   object  \n",
            " 18  matched_score                 4766 non-null   float64 \n",
            " 19  experience_years              4766 non-null   float64 \n",
            " 20  min_experiencere_requirement  4766 non-null   int64   \n",
            "dtypes: category(1), float64(2), int64(1), object(17)\n",
            "memory usage: 787.8+ KB\n"
          ]
        }
      ],
      "source": [
        "resume_data_updatedroles.info()"
      ]
    },
    {
      "cell_type": "code",
      "execution_count": null,
      "id": "d25185b9-81eb-42b2-aafc-8c08b276869f",
      "metadata": {
        "id": "d25185b9-81eb-42b2-aafc-8c08b276869f"
      },
      "outputs": [],
      "source": [
        "#Similarly Avoiding Company name to reduce any further bias\n",
        "resume_data_updatedroles = resume_data_updatedroles.drop(columns=['professional_company_names', 'locations'])"
      ]
    },
    {
      "cell_type": "code",
      "execution_count": null,
      "id": "96a23e65-fa54-4b21-8908-1f031cd54af4",
      "metadata": {
        "id": "96a23e65-fa54-4b21-8908-1f031cd54af4"
      },
      "outputs": [],
      "source": [
        "resume_data_updatedroles = resume_data_updatedroles.drop(columns=['educational_institution_name'])"
      ]
    },
    {
      "cell_type": "code",
      "execution_count": null,
      "id": "e94e7cfa-4b3d-4859-a128-a8c265315825",
      "metadata": {
        "scrolled": true,
        "id": "e94e7cfa-4b3d-4859-a128-a8c265315825",
        "outputId": "865edd31-2f84-410c-e516-298456810801"
      },
      "outputs": [
        {
          "data": {
            "text/plain": [
              "career_objective                2398\n",
              "skills                             0\n",
              "degree_names                       0\n",
              "passing_years                    658\n",
              "educational_results                0\n",
              "result_types                       0\n",
              "major_field_of_studies             0\n",
              "related_skils_in_job               0\n",
              "positions                          0\n",
              "responsibilities                   0\n",
              "certification_providers         3760\n",
              "certification_skills            3760\n",
              "issue_dates                     3760\n",
              "expiry_dates                    3760\n",
              "job_position_name                  0\n",
              "educational_requirements           0\n",
              "responsibilities.1                 0\n",
              "skills_required                 1701\n",
              "matched_score                      0\n",
              "experience_years                   0\n",
              "min_experiencere_requirement       0\n",
              "dtype: int64"
            ]
          },
          "execution_count": 66,
          "metadata": {},
          "output_type": "execute_result"
        }
      ],
      "source": [
        "resume_data_updatedroles.isnull().sum()"
      ]
    },
    {
      "cell_type": "code",
      "execution_count": null,
      "id": "f276131e-7463-4230-99e7-c6de847ee04e",
      "metadata": {
        "id": "f276131e-7463-4230-99e7-c6de847ee04e"
      },
      "outputs": [],
      "source": [
        "# Since 14% of the candidates dont have a passing year we will be dropping them\n",
        "updated_resume_data = resume_data_updatedroles[resume_data_updatedroles['passing_years'].notnull()].copy()"
      ]
    },
    {
      "cell_type": "code",
      "execution_count": null,
      "id": "ceec5153-d2be-424a-af10-a14cec7c6f69",
      "metadata": {
        "id": "ceec5153-d2be-424a-af10-a14cec7c6f69",
        "outputId": "78801844-08e2-4ea2-d6e4-0c7616c54223"
      },
      "outputs": [
        {
          "data": {
            "text/plain": [
              "career_objective                1922\n",
              "skills                             0\n",
              "degree_names                       0\n",
              "passing_years                      0\n",
              "educational_results                0\n",
              "result_types                       0\n",
              "major_field_of_studies             0\n",
              "related_skils_in_job               0\n",
              "positions                          0\n",
              "responsibilities                   0\n",
              "certification_providers         3256\n",
              "certification_skills            3256\n",
              "issue_dates                     3256\n",
              "expiry_dates                    3256\n",
              "job_position_name                  0\n",
              "educational_requirements           0\n",
              "responsibilities.1                 0\n",
              "skills_required                 1466\n",
              "matched_score                      0\n",
              "experience_years                   0\n",
              "min_experiencere_requirement       0\n",
              "dtype: int64"
            ]
          },
          "execution_count": 70,
          "metadata": {},
          "output_type": "execute_result"
        }
      ],
      "source": [
        "updated_resume_data.isnull().sum()"
      ]
    },
    {
      "cell_type": "code",
      "execution_count": null,
      "id": "3c84c82c-6a5b-401e-b6d3-16dd070fe15b",
      "metadata": {
        "id": "3c84c82c-6a5b-401e-b6d3-16dd070fe15b"
      },
      "outputs": [],
      "source": [
        "updated_resume_data['degree_names'].value_counts()"
      ]
    },
    {
      "cell_type": "code",
      "execution_count": null,
      "id": "9c239fe6-01c8-4e9a-9b56-31b652298409",
      "metadata": {
        "id": "9c239fe6-01c8-4e9a-9b56-31b652298409"
      },
      "outputs": [],
      "source": [
        "updated_resume_data['result_types'].value_counts()"
      ]
    },
    {
      "cell_type": "code",
      "execution_count": null,
      "id": "078748df-e519-4b92-ad7c-3632276267cc",
      "metadata": {
        "id": "078748df-e519-4b92-ad7c-3632276267cc"
      },
      "outputs": [],
      "source": [
        "updated_resume_data['educational_results'].value_counts()"
      ]
    },
    {
      "cell_type": "code",
      "execution_count": null,
      "id": "fa038546-449f-4128-83c2-513e7978963f",
      "metadata": {
        "id": "fa038546-449f-4128-83c2-513e7978963f"
      },
      "outputs": [],
      "source": [
        "updated_resume_data['has_double_degree'] = updated_resume_data['passing_years'].apply(\n",
        "    lambda x: len(x) > 1 if isinstance(x, list) else False\n",
        ")\n",
        "\n",
        "def get_most_recent_index(passing_years):\n",
        "    if isinstance(passing_years, list) and passing_years:\n",
        "        try:\n",
        "            return passing_years.index(max(passing_years))\n",
        "        except:\n",
        "            return None\n",
        "    return None\n",
        "\n",
        "def get_latest_degree(row):\n",
        "    idx = get_most_recent_index(row['passing_years'])\n",
        "    if idx is not None and isinstance(row['degree_names'], list) and idx < len(row['degree_names']):\n",
        "        return row['degree_names'][idx]\n",
        "    return None\n",
        "\n",
        "def get_latest_result(row):\n",
        "    idx = get_most_recent_index(row['passing_years'])\n",
        "    if idx is not None and isinstance(row['educational_results'], list) and idx < len(row['educational_results']):\n",
        "        return row['educational_results'][idx]\n",
        "    return None\n",
        "\n",
        "updated_resume_data['latest_grad_year'] = updated_resume_data['passing_years'].apply(lambda x: max(x) if isinstance(x, list) and x else None)\n",
        "updated_resume_data['latest_degree'] = updated_resume_data.apply(get_latest_degree, axis=1)\n",
        "updated_resume_data['latest_result'] = updated_resume_data.apply(get_latest_result, axis=1)\n",
        "\n",
        "\n",
        "\n"
      ]
    },
    {
      "cell_type": "code",
      "execution_count": null,
      "id": "f16704ed-cc43-44b8-b8e1-66be91bd7425",
      "metadata": {
        "id": "f16704ed-cc43-44b8-b8e1-66be91bd7425",
        "outputId": "1df869b1-568e-4c68-ffab-5526a8bd811f"
      },
      "outputs": [
        {
          "data": {
            "text/plain": [
              "latest_result\n",
              "None                                  3292\n",
              "4.0                                     70\n",
              "3.6                                     42\n",
              "3.5                                     42\n",
              "3.4                                     42\n",
              "gold medalist                           28\n",
              "3.7                                     28\n",
              "3.8                                     28\n",
              "3.1                                     28\n",
              "3.85                                    14\n",
              "3.9/4.0                                 14\n",
              "3.91                                    14\n",
              "ranking: 1st of 82 students             14\n",
              "3.83                                    14\n",
              "second upper class honors               14\n",
              "cpa qualified candidate                 14\n",
              "cum laude - graduating with honors      14\n",
              "gpa: 3.8                                14\n",
              "3.35/4.0                                14\n",
              "a average                               14\n",
              "3.67                                    14\n",
              "3.15                                    14\n",
              "4.00                                    14\n",
              "3.73                                    14\n",
              "cum laude                               14\n",
              "3.82                                    14\n",
              "3.78                                    14\n",
              "3.41                                    14\n",
              "3.45                                    14\n",
              "gpa: 8                                  14\n",
              "6.7                                     14\n",
              "4.1                                     14\n",
              "distinction                             14\n",
              "3.01                                    14\n",
              "3.63/4.0                                14\n",
              "3.52 / 4.0                              14\n",
              "3.5/4.0                                 14\n",
              "magna cum laude                         14\n",
              "3.75                                    14\n",
              "3.98                                    14\n",
              "69%                                     14\n",
              "3.9                                     14\n",
              "2.50                                    14\n",
              "71                                      14\n",
              "9.35 (till 4 semesters)                 14\n",
              "3.95                                     4\n",
              "Name: count, dtype: int64"
            ]
          },
          "execution_count": 74,
          "metadata": {},
          "output_type": "execute_result"
        }
      ],
      "source": [
        "updated_resume_data['latest_result'].value_counts(dropna=False)"
      ]
    },
    {
      "cell_type": "code",
      "execution_count": null,
      "id": "416f2650-dd02-4b9e-aa12-72abd332a2b5",
      "metadata": {
        "id": "416f2650-dd02-4b9e-aa12-72abd332a2b5",
        "outputId": "9d9083ac-bf8b-4b4f-9111-4dd6d9ea6778"
      },
      "outputs": [
        {
          "name": "stdout",
          "output_type": "stream",
          "text": [
            "<class 'pandas.core.frame.DataFrame'>\n",
            "Index: 4108 entries, 0 to 9540\n",
            "Data columns (total 21 columns):\n",
            " #   Column                        Non-Null Count  Dtype   \n",
            "---  ------                        --------------  -----   \n",
            " 0   career_objective              2186 non-null   object  \n",
            " 1   skills                        4108 non-null   object  \n",
            " 2   major_field_of_studies        4108 non-null   object  \n",
            " 3   related_skils_in_job          4108 non-null   object  \n",
            " 4   positions                     4108 non-null   object  \n",
            " 5   responsibilities              4108 non-null   object  \n",
            " 6   certification_providers       852 non-null    object  \n",
            " 7   certification_skills          852 non-null    object  \n",
            " 8   issue_dates                   852 non-null    object  \n",
            " 9   expiry_dates                  852 non-null    object  \n",
            " 10  job_position_name             4108 non-null   category\n",
            " 11  educational_requirements      4108 non-null   object  \n",
            " 12  responsibilities.1            4108 non-null   object  \n",
            " 13  skills_required               2642 non-null   object  \n",
            " 14  matched_score                 4108 non-null   float64 \n",
            " 15  experience_years              4108 non-null   float64 \n",
            " 16  min_experiencere_requirement  4108 non-null   int64   \n",
            " 17  has_double_degree             4108 non-null   bool    \n",
            " 18  latest_grad_year              4108 non-null   int64   \n",
            " 19  latest_degree                 4066 non-null   object  \n",
            " 20  latest_result                 816 non-null    object  \n",
            "dtypes: bool(1), category(1), float64(2), int64(2), object(15)\n",
            "memory usage: 651.2+ KB\n"
          ]
        }
      ],
      "source": [
        "updated_resume_data.info()"
      ]
    },
    {
      "cell_type": "code",
      "execution_count": null,
      "id": "02381342-44f9-4239-a11c-92193cacfbcb",
      "metadata": {
        "id": "02381342-44f9-4239-a11c-92193cacfbcb"
      },
      "outputs": [],
      "source": [
        "updated_resume_data = updated_resume_data.drop(columns = ['educational_results', 'passing_years', 'degree_names', 'result_types'])"
      ]
    },
    {
      "cell_type": "code",
      "execution_count": null,
      "id": "6933b859-5542-4bf0-97c6-be79261e5dd4",
      "metadata": {
        "id": "6933b859-5542-4bf0-97c6-be79261e5dd4"
      },
      "outputs": [],
      "source": [
        "def normalize_result(val):\n",
        "    try:\n",
        "        val = str(val).lower().strip()\n",
        "        #print(\"val : \"+val+ \"\\n\")\n",
        "\n",
        "        # Remove unwanted characters\n",
        "        val = val.replace(\"gpa:\", \"\").replace(\"cpa\", \"\").replace(\"(\", \"\").replace(\")\", \"\").strip()\n",
        "\n",
        "        # Handle pure GPA like \"3.5\", \"4.0\", \"3.9/4.0\", \"3.52 / 4.0\"\n",
        "        if \"/\" in val:\n",
        "            num, denom = val.split(\"/\")\n",
        "            return round(float(num) / float(denom) * 4.0, 2)\n",
        "        if re.match(r'^\\d+(\\.\\d+)?$', val):\n",
        "            gpa = float(val)\n",
        "            #print(gpa)\n",
        "            if 11 <= gpa <= 100:\n",
        "                #print(round(val_num / 25, 2))\n",
        "                return round(val_num / 25, 2)    #percentage\n",
        "            elif gpa <= 4.0:\n",
        "                #print(round(min(gpa, 4.0), 2))\n",
        "                return round(min(gpa, 4.0), 2)  #4.0 point scale\n",
        "            else:\n",
        "                #print(round(gpa / 10 * 4.0, 2))\n",
        "                return round(gpa / 10 * 4.0, 2)  # 10-point scale\n",
        "        if \"%\" in val:\n",
        "            val_num = float(val.replace(\"%\", \"\").strip())\n",
        "            #print(val_num)\n",
        "            if 0 <= val_num <= 100:\n",
        "                #print(round(val_num / 25, 2))\n",
        "                return round(val_num / 25, 2)  # scale to 4.0\n",
        "            else:\n",
        "                return None  # invalid %\n",
        "\n",
        "        if re.match(r'\\d+(\\.\\d+)?\\s*(till', val):\n",
        "            gpa = float(val.split()[0])\n",
        "            #print(gpa,\" hi \", round(gpa / 10 * 4.0, 2))\n",
        "            return round(gpa / 10 * 4.0, 2)\n",
        "\n",
        "        # Handle honors and qualitative tags\n",
        "        if \"first\" in val or \"gold\" in val or \"magna\" in val:\n",
        "            return 4.0\n",
        "        if \"cum laude\" in val or \"distinction\" in val:\n",
        "            return 3.8\n",
        "        if \"second upper\" in val:\n",
        "            return 3.5\n",
        "        if \"average\" in val:\n",
        "            return 3.0\n",
        "        if \"ranking\" in val:\n",
        "            return 3.9  # Assume top rank implies high GPA\n",
        "\n",
        "    except:\n",
        "        return None\n",
        "\n",
        "    return None\n",
        "\n",
        "updated_resume_data['normalized_result'] = updated_resume_data['latest_result'].apply(normalize_result)"
      ]
    },
    {
      "cell_type": "code",
      "execution_count": null,
      "id": "8948e680-7cf4-4381-818b-f4c357848009",
      "metadata": {
        "id": "8948e680-7cf4-4381-818b-f4c357848009"
      },
      "outputs": [],
      "source": [
        "updated_resume_data['normalized_result'].value_counts(dropna=False)"
      ]
    },
    {
      "cell_type": "code",
      "execution_count": null,
      "id": "5784aa7b-8519-4502-9aac-9f7fa1c4671b",
      "metadata": {
        "id": "5784aa7b-8519-4502-9aac-9f7fa1c4671b",
        "outputId": "4ea1d9c5-4275-4d4d-fb2c-af1a0a82ed6e"
      },
      "outputs": [
        {
          "data": {
            "text/html": [
              "<div>\n",
              "<style scoped>\n",
              "    .dataframe tbody tr th:only-of-type {\n",
              "        vertical-align: middle;\n",
              "    }\n",
              "\n",
              "    .dataframe tbody tr th {\n",
              "        vertical-align: top;\n",
              "    }\n",
              "\n",
              "    .dataframe thead th {\n",
              "        text-align: right;\n",
              "    }\n",
              "</style>\n",
              "<table border=\"1\" class=\"dataframe\">\n",
              "  <thead>\n",
              "    <tr style=\"text-align: right;\">\n",
              "      <th></th>\n",
              "      <th>career_objective</th>\n",
              "      <th>skills</th>\n",
              "      <th>major_field_of_studies</th>\n",
              "      <th>related_skils_in_job</th>\n",
              "      <th>positions</th>\n",
              "      <th>responsibilities</th>\n",
              "      <th>certification_providers</th>\n",
              "      <th>certification_skills</th>\n",
              "      <th>issue_dates</th>\n",
              "      <th>expiry_dates</th>\n",
              "      <th>...</th>\n",
              "      <th>responsibilities.1</th>\n",
              "      <th>skills_required</th>\n",
              "      <th>matched_score</th>\n",
              "      <th>experience_years</th>\n",
              "      <th>min_experiencere_requirement</th>\n",
              "      <th>has_double_degree</th>\n",
              "      <th>latest_grad_year</th>\n",
              "      <th>latest_degree</th>\n",
              "      <th>latest_result</th>\n",
              "      <th>normalized_result</th>\n",
              "    </tr>\n",
              "  </thead>\n",
              "  <tbody>\n",
              "    <tr>\n",
              "      <th>45</th>\n",
              "      <td>NaN</td>\n",
              "      <td>[c/python, r, stk, catia, ansys, latex, solidw...</td>\n",
              "      <td>[mathematics, physics, chemistry, engineering,...</td>\n",
              "      <td>[]</td>\n",
              "      <td>[engineering intern, tutor, mechanical design ...</td>\n",
              "      <td>Data Platform Design\\nData Pipeline Developmen...</td>\n",
              "      <td>[Scrum Fundamentals, Data Science Fundamentals...</td>\n",
              "      <td>[None, None, [SQL]]</td>\n",
              "      <td>[N/A, N/A, N/A]</td>\n",
              "      <td>[None, None, None]</td>\n",
              "      <td>...</td>\n",
              "      <td>Data Platform Design\\nData Pipeline Developmen...</td>\n",
              "      <td>Azure\\nBig Data\\nData Analytics\\nETL Tools\\nPo...</td>\n",
              "      <td>0.783333</td>\n",
              "      <td>2.33</td>\n",
              "      <td>5</td>\n",
              "      <td>True</td>\n",
              "      <td>2017</td>\n",
              "      <td>bachelor of science, be bachelor of engineerin...</td>\n",
              "      <td>None</td>\n",
              "      <td>NaN</td>\n",
              "    </tr>\n",
              "  </tbody>\n",
              "</table>\n",
              "<p>1 rows × 22 columns</p>\n",
              "</div>"
            ],
            "text/plain": [
              "   career_objective                                             skills  \\\n",
              "45              NaN  [c/python, r, stk, catia, ansys, latex, solidw...   \n",
              "\n",
              "                               major_field_of_studies related_skils_in_job  \\\n",
              "45  [mathematics, physics, chemistry, engineering,...                   []   \n",
              "\n",
              "                                            positions  \\\n",
              "45  [engineering intern, tutor, mechanical design ...   \n",
              "\n",
              "                                     responsibilities  \\\n",
              "45  Data Platform Design\\nData Pipeline Developmen...   \n",
              "\n",
              "                              certification_providers certification_skills  \\\n",
              "45  [Scrum Fundamentals, Data Science Fundamentals...  [None, None, [SQL]]   \n",
              "\n",
              "        issue_dates        expiry_dates  ...  \\\n",
              "45  [N/A, N/A, N/A]  [None, None, None]  ...   \n",
              "\n",
              "                                   responsibilities.1  \\\n",
              "45  Data Platform Design\\nData Pipeline Developmen...   \n",
              "\n",
              "                                      skills_required matched_score  \\\n",
              "45  Azure\\nBig Data\\nData Analytics\\nETL Tools\\nPo...      0.783333   \n",
              "\n",
              "   experience_years  min_experiencere_requirement  has_double_degree  \\\n",
              "45             2.33                             5               True   \n",
              "\n",
              "    latest_grad_year                                      latest_degree  \\\n",
              "45              2017  bachelor of science, be bachelor of engineerin...   \n",
              "\n",
              "    latest_result normalized_result  \n",
              "45           None               NaN  \n",
              "\n",
              "[1 rows x 22 columns]"
            ]
          },
          "execution_count": 84,
          "metadata": {},
          "output_type": "execute_result"
        }
      ],
      "source": [
        "updated_resume_data.iloc[[21]]"
      ]
    },
    {
      "cell_type": "code",
      "execution_count": null,
      "id": "b4daa8f9-86cd-4cbc-aa97-2161d3566d2c",
      "metadata": {
        "id": "b4daa8f9-86cd-4cbc-aa97-2161d3566d2c"
      },
      "outputs": [],
      "source": [
        "updated_resume_data = updated_resume_data.drop(columns= ['career_objective'])"
      ]
    },
    {
      "cell_type": "code",
      "execution_count": null,
      "id": "22e8126f-705e-4b67-884c-31980a0d3069",
      "metadata": {
        "id": "22e8126f-705e-4b67-884c-31980a0d3069"
      },
      "outputs": [],
      "source": [
        "updated_resume_data['certification_skills'].value_counts()"
      ]
    },
    {
      "cell_type": "code",
      "execution_count": null,
      "id": "65e045c0-d075-49d8-a958-7141db3ab0b9",
      "metadata": {
        "id": "65e045c0-d075-49d8-a958-7141db3ab0b9"
      },
      "outputs": [],
      "source": [
        "def merge_responsibilities(row):\n",
        "    parts = []\n",
        "    if pd.notnull(row['responsibilities']):\n",
        "        parts.append(str(row['responsibilities']).strip())\n",
        "    if pd.notnull(row['responsibilities.1']):\n",
        "        parts.append(str(row['responsibilities.1']).strip())\n",
        "    return \" \".join(parts) if parts else None\n",
        "\n",
        "updated_resume_data['combined_responsibilities'] = updated_resume_data.apply(merge_responsibilities, axis=1)"
      ]
    },
    {
      "cell_type": "code",
      "execution_count": null,
      "id": "4136d7c4-4ca3-4026-af90-80d926adc758",
      "metadata": {
        "id": "4136d7c4-4ca3-4026-af90-80d926adc758"
      },
      "outputs": [],
      "source": [
        "updated_resume_data = updated_resume_data.drop(columns= ['responsibilities', 'responsibilities.1'])"
      ]
    },
    {
      "cell_type": "code",
      "execution_count": null,
      "id": "b2a64fc4-fa41-438e-9621-6d36457dc98e",
      "metadata": {
        "id": "b2a64fc4-fa41-438e-9621-6d36457dc98e",
        "outputId": "0cbeab9f-8e56-4aac-d0f4-7846ac1e01c6"
      },
      "outputs": [
        {
          "name": "stdout",
          "output_type": "stream",
          "text": [
            "<class 'pandas.core.frame.DataFrame'>\n",
            "Index: 4108 entries, 0 to 9540\n",
            "Data columns (total 20 columns):\n",
            " #   Column                        Non-Null Count  Dtype   \n",
            "---  ------                        --------------  -----   \n",
            " 0   skills                        4108 non-null   object  \n",
            " 1   major_field_of_studies        4108 non-null   object  \n",
            " 2   related_skils_in_job          4108 non-null   object  \n",
            " 3   positions                     4108 non-null   object  \n",
            " 4   certification_providers       852 non-null    object  \n",
            " 5   certification_skills          852 non-null    object  \n",
            " 6   issue_dates                   852 non-null    object  \n",
            " 7   expiry_dates                  852 non-null    object  \n",
            " 8   job_position_name             4108 non-null   category\n",
            " 9   educational_requirements      4108 non-null   object  \n",
            " 10  skills_required               2642 non-null   object  \n",
            " 11  matched_score                 4108 non-null   float64 \n",
            " 12  experience_years              4108 non-null   float64 \n",
            " 13  min_experiencere_requirement  4108 non-null   int64   \n",
            " 14  has_double_degree             4108 non-null   bool    \n",
            " 15  latest_grad_year              4108 non-null   int64   \n",
            " 16  latest_degree                 4066 non-null   object  \n",
            " 17  latest_result                 816 non-null    object  \n",
            " 18  normalized_result             648 non-null    float64 \n",
            " 19  combined_responsibilities     4108 non-null   object  \n",
            "dtypes: bool(1), category(1), float64(3), int64(2), object(13)\n",
            "memory usage: 619.1+ KB\n"
          ]
        }
      ],
      "source": [
        "updated_resume_data.info()"
      ]
    },
    {
      "cell_type": "code",
      "execution_count": null,
      "id": "eabbb185-206d-4571-950c-598bcaf98e91",
      "metadata": {
        "id": "eabbb185-206d-4571-950c-598bcaf98e91"
      },
      "outputs": [],
      "source": [
        "def flatten_skills(skills_field):\n",
        "    if isinstance(skills_field, list):\n",
        "        # Flatten if nested lists are present\n",
        "        flat = []\n",
        "        for item in skills_field:\n",
        "            if isinstance(item, list):\n",
        "                flat.extend(item)\n",
        "            else:\n",
        "                flat.append(item)\n",
        "        return flat\n",
        "    return []\n",
        "updated_resume_data['related_skils_in_job_flat'] = updated_resume_data['related_skils_in_job'].apply(flatten_skills)"
      ]
    },
    {
      "cell_type": "code",
      "execution_count": null,
      "id": "77801f99-ec1e-40e0-b30a-4f96fdb699c6",
      "metadata": {
        "id": "77801f99-ec1e-40e0-b30a-4f96fdb699c6"
      },
      "outputs": [],
      "source": [
        "def combine_skills(row):\n",
        "    s1 = row['skills'] if isinstance(row['skills'], list) else []\n",
        "    s2 = row['related_skils_in_job_flat'] if isinstance(row['related_skils_in_job_flat'], list) else []\n",
        "    return list(set(s1 + s2))  # remove duplicates\n",
        "\n",
        "updated_resume_data['combined_skills'] = updated_resume_data.apply(combine_skills, axis = 1)"
      ]
    },
    {
      "cell_type": "code",
      "execution_count": null,
      "id": "6464e27e-3474-49db-bba9-5b79dbbf8ab2",
      "metadata": {
        "id": "6464e27e-3474-49db-bba9-5b79dbbf8ab2",
        "outputId": "672d5c40-08be-4c51-b244-f629c017fa9f"
      },
      "outputs": [
        {
          "name": "stdout",
          "output_type": "stream",
          "text": [
            "<class 'pandas.core.frame.DataFrame'>\n",
            "Index: 4108 entries, 0 to 9540\n",
            "Data columns (total 22 columns):\n",
            " #   Column                        Non-Null Count  Dtype   \n",
            "---  ------                        --------------  -----   \n",
            " 0   skills                        4108 non-null   object  \n",
            " 1   major_field_of_studies        4108 non-null   object  \n",
            " 2   related_skils_in_job          4108 non-null   object  \n",
            " 3   positions                     4108 non-null   object  \n",
            " 4   certification_providers       852 non-null    object  \n",
            " 5   certification_skills          852 non-null    object  \n",
            " 6   issue_dates                   852 non-null    object  \n",
            " 7   expiry_dates                  852 non-null    object  \n",
            " 8   job_position_name             4108 non-null   category\n",
            " 9   educational_requirements      4108 non-null   object  \n",
            " 10  skills_required               2642 non-null   object  \n",
            " 11  matched_score                 4108 non-null   float64 \n",
            " 12  experience_years              4108 non-null   float64 \n",
            " 13  min_experiencere_requirement  4108 non-null   int64   \n",
            " 14  has_double_degree             4108 non-null   bool    \n",
            " 15  latest_grad_year              4108 non-null   int64   \n",
            " 16  latest_degree                 4066 non-null   object  \n",
            " 17  latest_result                 816 non-null    object  \n",
            " 18  normalized_result             648 non-null    float64 \n",
            " 19  combined_responsibilities     4108 non-null   object  \n",
            " 20  related_skils_in_job_flat     4108 non-null   object  \n",
            " 21  combined_skills               4108 non-null   object  \n",
            "dtypes: bool(1), category(1), float64(3), int64(2), object(15)\n",
            "memory usage: 683.3+ KB\n"
          ]
        }
      ],
      "source": [
        "updated_resume_data.info()"
      ]
    },
    {
      "cell_type": "code",
      "execution_count": null,
      "id": "0cb457d4-8ef8-40d2-bc9f-4a77cdcdf581",
      "metadata": {
        "scrolled": true,
        "id": "0cb457d4-8ef8-40d2-bc9f-4a77cdcdf581"
      },
      "outputs": [],
      "source": [
        "pd.set_option('display.max_columns', None)\n",
        "pd.set_option('display.max_colwidth', None)\n",
        "updated_resume_data.iloc[[0]]"
      ]
    },
    {
      "cell_type": "code",
      "execution_count": null,
      "id": "7e244feb-3967-43b3-80da-6c8f7fa8c7ad",
      "metadata": {
        "id": "7e244feb-3967-43b3-80da-6c8f7fa8c7ad"
      },
      "outputs": [],
      "source": [
        "updated_resume_data = updated_resume_data.drop(columns= ['skills', 'related_skils_in_job', 'related_skils_in_job_flat'])"
      ]
    },
    {
      "cell_type": "code",
      "execution_count": null,
      "id": "ac5eb6fa-f716-4cf0-b88d-b4649e3fe7e2",
      "metadata": {
        "id": "ac5eb6fa-f716-4cf0-b88d-b4649e3fe7e2"
      },
      "outputs": [],
      "source": [
        "updated_resume_data.info()"
      ]
    },
    {
      "cell_type": "code",
      "execution_count": null,
      "id": "810e5876-8722-46c6-868f-ad7d72413242",
      "metadata": {
        "id": "810e5876-8722-46c6-868f-ad7d72413242"
      },
      "outputs": [],
      "source": [
        "updated_resume_data['issue_dates'].value_counts(dropna=False)"
      ]
    },
    {
      "cell_type": "code",
      "execution_count": null,
      "id": "5c60227c-a168-455b-816d-6fe38290cc14",
      "metadata": {
        "id": "5c60227c-a168-455b-816d-6fe38290cc14"
      },
      "outputs": [],
      "source": [
        "updated_resume_data['expiry_dates'].value_counts(dropna=False)"
      ]
    },
    {
      "cell_type": "code",
      "execution_count": null,
      "id": "33933238-b53a-4899-bd1a-b8d995e40cc1",
      "metadata": {
        "id": "33933238-b53a-4899-bd1a-b8d995e40cc1"
      },
      "outputs": [],
      "source": [
        "updated_resume_data['certification_providers'].value_counts(dropna=False)"
      ]
    },
    {
      "cell_type": "code",
      "execution_count": null,
      "id": "d5f71ac7-5b0a-460b-a306-504b833c5e52",
      "metadata": {
        "id": "d5f71ac7-5b0a-460b-a306-504b833c5e52"
      },
      "outputs": [],
      "source": [
        "updated_resume_data['certification_skills'].value_counts(dropna=False)"
      ]
    },
    {
      "cell_type": "code",
      "execution_count": null,
      "id": "1e344010-f025-4e05-aaac-544ff47796bf",
      "metadata": {
        "id": "1e344010-f025-4e05-aaac-544ff47796bf"
      },
      "outputs": [],
      "source": [
        "PROFICIENCY_TERMS = {'advanced', 'intermediate', 'user', 'beginner', 'expert'}\n",
        "\n",
        "def clean_cert_skills(skill_list):\n",
        "    if isinstance(skill_list, list):\n",
        "        flat = []\n",
        "        for skill in skill_list:\n",
        "            if isinstance(skill, list):\n",
        "                flat.extend(skill)\n",
        "            else:\n",
        "                flat.append(skill)\n",
        "        return [s.strip().lower() for s in flat if s and s.strip().lower() not in PROFICIENCY_TERMS]\n",
        "    return []\n",
        "\n",
        "updated_resume_data['cert_skills_flat'] = updated_resume_data['certification_skills'].apply(clean_cert_skills)"
      ]
    },
    {
      "cell_type": "code",
      "execution_count": null,
      "id": "391681f4-a14d-4fcf-9cbd-61c8e9ad5e73",
      "metadata": {
        "id": "391681f4-a14d-4fcf-9cbd-61c8e9ad5e73",
        "outputId": "508aaa7b-4679-4190-effb-9eccc280c132"
      },
      "outputs": [
        {
          "data": {
            "text/plain": [
              "cert_skills_flat\n",
              "[]                                                                                                                                        3786\n",
              "[python]                                                                                                                                    28\n",
              "[volunteer income tax assistance, tax counseling for the elderly]                                                                           14\n",
              "[epa certification]                                                                                                                         14\n",
              "[big data analysis, hadoop]                                                                                                                 14\n",
              "[data science, nlp]                                                                                                                         14\n",
              "[project management]                                                                                                                        14\n",
              "[data science]                                                                                                                              14\n",
              "[selenium]                                                                                                                                  14\n",
              "[software fundamentals]                                                                                                                     14\n",
              "[hipaa compliance]                                                                                                                          14\n",
              "[python, python: xml, json, and the web, sql for testers]                                                                                   14\n",
              "[natural learning processing]                                                                                                               14\n",
              "[deep learning, computer vision, opencv, ssd, gans, neural networks, deep learning, machine learning, python, r, data science, python]      14\n",
              "[military training, savings and investment, soundness, mortgage licensing]                                                                  14\n",
              "[accounting, fraud detection]                                                                                                               14\n",
              "[embedded python]                                                                                                                           14\n",
              "[python programming, python programming]                                                                                                    14\n",
              "[r, python, powerbi]                                                                                                                        14\n",
              "[python, sql]                                                                                                                               14\n",
              "[sql]                                                                                                                                       14\n",
              "[cpr & first aid]                                                                                                                           14\n",
              "[tableau visualization]                                                                                                                     14\n",
              "Name: count, dtype: int64"
            ]
          },
          "execution_count": 104,
          "metadata": {},
          "output_type": "execute_result"
        }
      ],
      "source": [
        "updated_resume_data['cert_skills_flat'].value_counts(dropna=False)"
      ]
    },
    {
      "cell_type": "code",
      "execution_count": null,
      "id": "4048ec9a-a3ad-45a8-96d2-b81f384e8c32",
      "metadata": {
        "id": "4048ec9a-a3ad-45a8-96d2-b81f384e8c32"
      },
      "outputs": [],
      "source": [
        "def combine_cert_skills_and_providers(row):\n",
        "    skills = row['cert_skills_flat'] if isinstance(row['cert_skills_flat'], list) else []\n",
        "    providers = row['certification_providers'] if isinstance(row['certification_providers'], list) else []\n",
        "    return list(set(skills + providers))\n",
        "\n",
        "updated_resume_data['cert_combined_skills'] = updated_resume_data.apply(combine_cert_skills_and_providers, axis=1)"
      ]
    },
    {
      "cell_type": "code",
      "execution_count": null,
      "id": "da583ebe-4550-40f7-9c4e-86c1487fd2d2",
      "metadata": {
        "scrolled": true,
        "id": "da583ebe-4550-40f7-9c4e-86c1487fd2d2",
        "outputId": "9ed191fa-51a2-44d6-ba53-394139d01a6c"
      },
      "outputs": [
        {
          "data": {
            "text/html": [
              "<div>\n",
              "<style scoped>\n",
              "    .dataframe tbody tr th:only-of-type {\n",
              "        vertical-align: middle;\n",
              "    }\n",
              "\n",
              "    .dataframe tbody tr th {\n",
              "        vertical-align: top;\n",
              "    }\n",
              "\n",
              "    .dataframe thead th {\n",
              "        text-align: right;\n",
              "    }\n",
              "</style>\n",
              "<table border=\"1\" class=\"dataframe\">\n",
              "  <thead>\n",
              "    <tr style=\"text-align: right;\">\n",
              "      <th></th>\n",
              "      <th>major_field_of_studies</th>\n",
              "      <th>positions</th>\n",
              "      <th>certification_providers</th>\n",
              "      <th>certification_skills</th>\n",
              "      <th>issue_dates</th>\n",
              "      <th>expiry_dates</th>\n",
              "      <th>job_position_name</th>\n",
              "      <th>educational_requirements</th>\n",
              "      <th>skills_required</th>\n",
              "      <th>matched_score</th>\n",
              "      <th>experience_years</th>\n",
              "      <th>min_experiencere_requirement</th>\n",
              "      <th>has_double_degree</th>\n",
              "      <th>latest_grad_year</th>\n",
              "      <th>latest_degree</th>\n",
              "      <th>latest_result</th>\n",
              "      <th>normalized_result</th>\n",
              "      <th>combined_responsibilities</th>\n",
              "      <th>combined_skills</th>\n",
              "      <th>cert_skills_flat</th>\n",
              "      <th>cert_combined_skills</th>\n",
              "    </tr>\n",
              "  </thead>\n",
              "  <tbody>\n",
              "    <tr>\n",
              "      <th>89</th>\n",
              "      <td>[computer science, computer science]</td>\n",
              "      <td>[computer science teacher, software engineer, junior software engineer]</td>\n",
              "      <td>[AWS, CSM]</td>\n",
              "      <td>[None, None]</td>\n",
              "      <td>[None, None]</td>\n",
              "      <td>[None, None]</td>\n",
              "      <td>DevOps Engineer</td>\n",
              "      <td>Bachelor/Honors</td>\n",
              "      <td>Ansible\\nAWS Cloud\\nCloud Platform\\nDevOps\\nDockers and Kubernetes\\nJava\\nReactJS\\nTerraform</td>\n",
              "      <td>0.85</td>\n",
              "      <td>13.0</td>\n",
              "      <td>3</td>\n",
              "      <td>True</td>\n",
              "      <td>2015</td>\n",
              "      <td>master of science</td>\n",
              "      <td>None</td>\n",
              "      <td>NaN</td>\n",
              "      <td>Open-Source Technologies\\nCI/CD Culture &amp; Tooling\\nProduct Availability &amp; Scalability\\nAutomation (Build &amp; Deploy)\\nMonitoring &amp; Reliability\\nInfrastructure Innovation\\nSoftware Engineering Velocity\\nInfrastructure Resiliency\\nSecurity &amp; Data Availability Open-Source Technologies\\nCI/CD Culture &amp; Tooling\\nProduct Availability &amp; Scalability\\nAutomation (Build &amp; Deploy)\\nMonitoring &amp; Reliability\\nInfrastructure Innovation\\nSoftware Engineering Velocity\\nInfrastructure Resiliency\\nSecurity &amp; Data Availability</td>\n",
              "      <td>[python, javascript (angular), data analysis, patience, css, algorithm design, git, html, interpersonal communication, technical writing]</td>\n",
              "      <td>[]</td>\n",
              "      <td>[AWS, CSM]</td>\n",
              "    </tr>\n",
              "  </tbody>\n",
              "</table>\n",
              "</div>"
            ],
            "text/plain": [
              "                  major_field_of_studies  \\\n",
              "89  [computer science, computer science]   \n",
              "\n",
              "                                                                  positions  \\\n",
              "89  [computer science teacher, software engineer, junior software engineer]   \n",
              "\n",
              "   certification_providers certification_skills   issue_dates  expiry_dates  \\\n",
              "89              [AWS, CSM]         [None, None]  [None, None]  [None, None]   \n",
              "\n",
              "   job_position_name educational_requirements  \\\n",
              "89   DevOps Engineer          Bachelor/Honors   \n",
              "\n",
              "                                                                                 skills_required  \\\n",
              "89  Ansible\\nAWS Cloud\\nCloud Platform\\nDevOps\\nDockers and Kubernetes\\nJava\\nReactJS\\nTerraform   \n",
              "\n",
              "    matched_score  experience_years  min_experiencere_requirement  \\\n",
              "89           0.85              13.0                             3   \n",
              "\n",
              "    has_double_degree  latest_grad_year      latest_degree latest_result  \\\n",
              "89               True              2015  master of science          None   \n",
              "\n",
              "    normalized_result  \\\n",
              "89                NaN   \n",
              "\n",
              "                                                                                                                                                                                                                                                                                                                                                                                                                                                                                                          combined_responsibilities  \\\n",
              "89  Open-Source Technologies\\nCI/CD Culture & Tooling\\nProduct Availability & Scalability\\nAutomation (Build & Deploy)\\nMonitoring & Reliability\\nInfrastructure Innovation\\nSoftware Engineering Velocity\\nInfrastructure Resiliency\\nSecurity & Data Availability Open-Source Technologies\\nCI/CD Culture & Tooling\\nProduct Availability & Scalability\\nAutomation (Build & Deploy)\\nMonitoring & Reliability\\nInfrastructure Innovation\\nSoftware Engineering Velocity\\nInfrastructure Resiliency\\nSecurity & Data Availability   \n",
              "\n",
              "                                                                                                                              combined_skills  \\\n",
              "89  [python, javascript (angular), data analysis, patience, css, algorithm design, git, html, interpersonal communication, technical writing]   \n",
              "\n",
              "   cert_skills_flat cert_combined_skills  \n",
              "89               []           [AWS, CSM]  "
            ]
          },
          "execution_count": 108,
          "metadata": {},
          "output_type": "execute_result"
        }
      ],
      "source": [
        "pd.set_option('display.max_columns', None)\n",
        "pd.set_option('display.max_colwidth', None)\n",
        "updated_resume_data.iloc[[45]]"
      ]
    },
    {
      "cell_type": "code",
      "execution_count": null,
      "id": "dae9cf5d-c02a-495f-ae9e-455927c0ba26",
      "metadata": {
        "id": "dae9cf5d-c02a-495f-ae9e-455927c0ba26"
      },
      "outputs": [],
      "source": [
        "def combine_skills(row):\n",
        "    s1 = row['combined_skills'] if isinstance(row['combined_skills'], list) else []\n",
        "    s2 = row['cert_combined_skills'] if isinstance(row['cert_combined_skills'], list) else []\n",
        "    return list(set(s1 + s2))  # remove duplicates\n",
        "\n",
        "updated_resume_data['combined_skills'] = updated_resume_data.apply(combine_skills, axis = 1)"
      ]
    },
    {
      "cell_type": "code",
      "execution_count": null,
      "id": "33fcddac-95bf-4de9-ba7a-ce3f2d0ac351",
      "metadata": {
        "id": "33fcddac-95bf-4de9-ba7a-ce3f2d0ac351"
      },
      "outputs": [],
      "source": [
        "updated_resume_data = updated_resume_data.drop(columns = ['cert_skills_flat', 'cert_combined_skills', 'expiry_dates', 'issue_dates', 'certification_skills', 'certification_providers'])\n",
        "\n"
      ]
    },
    {
      "cell_type": "code",
      "execution_count": null,
      "id": "79e3ac17-4e43-40ac-91ee-889dab8b1cb5",
      "metadata": {
        "scrolled": true,
        "id": "79e3ac17-4e43-40ac-91ee-889dab8b1cb5"
      },
      "outputs": [],
      "source": [
        "updated_resume_data.info()"
      ]
    },
    {
      "cell_type": "code",
      "execution_count": null,
      "id": "88e8a527-89cd-4f94-8485-5c25e4a1dfdb",
      "metadata": {
        "id": "88e8a527-89cd-4f94-8485-5c25e4a1dfdb",
        "outputId": "37c96719-1d83-4a35-ef9f-b427aade5263"
      },
      "outputs": [
        {
          "data": {
            "text/plain": [
              "skills_required\n",
              "NaN                                                                                                                                                                      1466\n",
              "Fast typing skill\\nIELTSInternet browsing & online work ability.                                                                                                          294\n",
              "ASP.NET MVC Strong understanding of database design\\nDatabase Administrator (DBA)\\nDatabase management\\nElasticsearch\\nMongoDB\\nMySQL database\\nNoSQL database\\nREDIS     294\n",
              "Cisco\\nLinux\\nOperation & Maintenance of Server                                                                                                                           294\n",
              "CCNA (Cisco Certified Network Associate)\\nGPON\\nHardware & Networking\\nIIG\\nISP\\nIT Enabled services\\nOLT and ONU                                                         294\n",
              "Python\\nR or Java\\nTensorFlow\\nPyTorch\\nScikit-learn.                                                                                                                     294\n",
              "iOS\\niOS App Developer\\niOS Application Development\\niOS Development\\nMobile apps Developer (iOS)\\nNative IOS\\nSwift (iOS)\\nSwift UI                                      293\n",
              "Ansible\\nAWS Cloud\\nCloud Platform\\nDevOps\\nDockers and Kubernetes\\nJava\\nReactJS\\nTerraform                                                                              293\n",
              "Azure\\nBig Data\\nData Analytics\\nETL Tools\\nPower BI\\nSQL                                                                                                                 293\n",
              "Business Analysis\\nEffective communication skills\\nJava\\nREST API Design\\nSoft Skills\\nSoftware Development                                                               293\n",
              "Name: count, dtype: int64"
            ]
          },
          "execution_count": 114,
          "metadata": {},
          "output_type": "execute_result"
        }
      ],
      "source": [
        "updated_resume_data['skills_required'].value_counts(dropna=False)"
      ]
    },
    {
      "cell_type": "code",
      "execution_count": null,
      "id": "eca5ced1-cb17-4655-8e1f-326a07854afb",
      "metadata": {
        "id": "eca5ced1-cb17-4655-8e1f-326a07854afb"
      },
      "outputs": [],
      "source": [
        "def split_newline_to_list(text):\n",
        "    if isinstance(text, str):\n",
        "        return [t.strip().lower() for t in text.split('\\n') if t.strip()]\n",
        "    return []\n",
        "\n",
        "# Apply to both fields\n",
        "updated_resume_data['combined_responsibilities'] = updated_resume_data['combined_responsibilities'].apply(split_newline_to_list)\n",
        "updated_resume_data['skills_required'] = updated_resume_data['skills_required'].apply(split_newline_to_list)"
      ]
    },
    {
      "cell_type": "code",
      "execution_count": null,
      "id": "b727e7be-d45f-4863-b894-8e0b1ace999d",
      "metadata": {
        "id": "b727e7be-d45f-4863-b894-8e0b1ace999d",
        "outputId": "146469c1-059f-412a-fb73-6af29f55c078"
      },
      "outputs": [
        {
          "data": {
            "text/html": [
              "<div>\n",
              "<style scoped>\n",
              "    .dataframe tbody tr th:only-of-type {\n",
              "        vertical-align: middle;\n",
              "    }\n",
              "\n",
              "    .dataframe tbody tr th {\n",
              "        vertical-align: top;\n",
              "    }\n",
              "\n",
              "    .dataframe thead th {\n",
              "        text-align: right;\n",
              "    }\n",
              "</style>\n",
              "<table border=\"1\" class=\"dataframe\">\n",
              "  <thead>\n",
              "    <tr style=\"text-align: right;\">\n",
              "      <th></th>\n",
              "      <th>major_field_of_studies</th>\n",
              "      <th>positions</th>\n",
              "      <th>job_position_name</th>\n",
              "      <th>educational_requirements</th>\n",
              "      <th>skills_required</th>\n",
              "      <th>matched_score</th>\n",
              "      <th>experience_years</th>\n",
              "      <th>min_experiencere_requirement</th>\n",
              "      <th>has_double_degree</th>\n",
              "      <th>latest_grad_year</th>\n",
              "      <th>latest_degree</th>\n",
              "      <th>latest_result</th>\n",
              "      <th>normalized_result</th>\n",
              "      <th>combined_responsibilities</th>\n",
              "      <th>combined_skills</th>\n",
              "    </tr>\n",
              "  </thead>\n",
              "  <tbody>\n",
              "    <tr>\n",
              "      <th>89</th>\n",
              "      <td>[computer science, computer science]</td>\n",
              "      <td>[computer science teacher, software engineer, junior software engineer]</td>\n",
              "      <td>DevOps Engineer</td>\n",
              "      <td>Bachelor/Honors</td>\n",
              "      <td>[ansible, aws cloud, cloud platform, devops, dockers and kubernetes, java, reactjs, terraform]</td>\n",
              "      <td>0.85</td>\n",
              "      <td>13.0</td>\n",
              "      <td>3</td>\n",
              "      <td>True</td>\n",
              "      <td>2015</td>\n",
              "      <td>master of science</td>\n",
              "      <td>None</td>\n",
              "      <td>NaN</td>\n",
              "      <td>[open-source technologies, ci/cd culture &amp; tooling, product availability &amp; scalability, automation (build &amp; deploy), monitoring &amp; reliability, infrastructure innovation, software engineering velocity, infrastructure resiliency, security &amp; data availability open-source technologies, ci/cd culture &amp; tooling, product availability &amp; scalability, automation (build &amp; deploy), monitoring &amp; reliability, infrastructure innovation, software engineering velocity, infrastructure resiliency, security &amp; data availability]</td>\n",
              "      <td>[python, javascript (angular), data analysis, technical writing, CSM, css, AWS, algorithm design, git, html, interpersonal communication, patience]</td>\n",
              "    </tr>\n",
              "  </tbody>\n",
              "</table>\n",
              "</div>"
            ],
            "text/plain": [
              "                  major_field_of_studies  \\\n",
              "89  [computer science, computer science]   \n",
              "\n",
              "                                                                  positions  \\\n",
              "89  [computer science teacher, software engineer, junior software engineer]   \n",
              "\n",
              "   job_position_name educational_requirements  \\\n",
              "89   DevOps Engineer          Bachelor/Honors   \n",
              "\n",
              "                                                                                   skills_required  \\\n",
              "89  [ansible, aws cloud, cloud platform, devops, dockers and kubernetes, java, reactjs, terraform]   \n",
              "\n",
              "    matched_score  experience_years  min_experiencere_requirement  \\\n",
              "89           0.85              13.0                             3   \n",
              "\n",
              "    has_double_degree  latest_grad_year      latest_degree latest_result  \\\n",
              "89               True              2015  master of science          None   \n",
              "\n",
              "    normalized_result  \\\n",
              "89                NaN   \n",
              "\n",
              "                                                                                                                                                                                                                                                                                                                                                                                                                                                                                                            combined_responsibilities  \\\n",
              "89  [open-source technologies, ci/cd culture & tooling, product availability & scalability, automation (build & deploy), monitoring & reliability, infrastructure innovation, software engineering velocity, infrastructure resiliency, security & data availability open-source technologies, ci/cd culture & tooling, product availability & scalability, automation (build & deploy), monitoring & reliability, infrastructure innovation, software engineering velocity, infrastructure resiliency, security & data availability]   \n",
              "\n",
              "                                                                                                                                        combined_skills  \n",
              "89  [python, javascript (angular), data analysis, technical writing, CSM, css, AWS, algorithm design, git, html, interpersonal communication, patience]  "
            ]
          },
          "execution_count": 120,
          "metadata": {},
          "output_type": "execute_result"
        }
      ],
      "source": [
        "pd.set_option('display.max_columns', None)\n",
        "pd.set_option('display.max_colwidth', None)\n",
        "updated_resume_data.iloc[[45]]"
      ]
    },
    {
      "cell_type": "code",
      "execution_count": null,
      "id": "f64e8903-6352-4a43-b14f-0f207a36a613",
      "metadata": {
        "id": "f64e8903-6352-4a43-b14f-0f207a36a613"
      },
      "outputs": [],
      "source": [
        "def compute_match_score(skills, required_skills):                 #Comparing what percent of required skills for roles match with required skills\n",
        "    if not isinstance(skills, list):\n",
        "        skills = []\n",
        "    if not isinstance(required_skills, list):\n",
        "        required_skills = []\n",
        "\n",
        "    # Convert both to lowercase, clean strings, and build sets\n",
        "    skills_set = set(s.lower().strip() for s in skills if isinstance(s, str) and s.strip())\n",
        "    required_set = set(s.lower().strip() for s in required_skills if isinstance(s, str) and s.strip())\n",
        "\n",
        "    # Avoid divide by zero\n",
        "    if not required_set:\n",
        "        return 0.0\n",
        "\n",
        "    return round(len(skills_set & required_set) / len(required_set), 2)\n",
        "\n",
        "updated_resume_data['skill_match_score'] = updated_resume_data.apply(\n",
        "    lambda row: compute_match_score(row['combined_skills'], row['skills_required']),\n",
        "    axis=1\n",
        ")"
      ]
    },
    {
      "cell_type": "code",
      "execution_count": null,
      "id": "d549f7cf-cbfb-4a23-90c7-a69f1d5dd616",
      "metadata": {
        "id": "d549f7cf-cbfb-4a23-90c7-a69f1d5dd616",
        "outputId": "5002e4bc-8fcc-4568-8d1a-007ec7132740"
      },
      "outputs": [
        {
          "data": {
            "text/plain": [
              "skill_match_score\n",
              "0.00    3767\n",
              "0.17     118\n",
              "0.20     106\n",
              "0.12      51\n",
              "0.33      39\n",
              "0.40      22\n",
              "0.60       2\n",
              "0.25       2\n",
              "0.67       1\n",
              "Name: count, dtype: int64"
            ]
          },
          "execution_count": 128,
          "metadata": {},
          "output_type": "execute_result"
        }
      ],
      "source": [
        "updated_resume_data['skill_match_score'].value_counts(dropna=False)"
      ]
    },
    {
      "cell_type": "code",
      "execution_count": null,
      "id": "c01d97b3-9d18-4b52-baaa-853aa42969ea",
      "metadata": {
        "scrolled": true,
        "id": "c01d97b3-9d18-4b52-baaa-853aa42969ea",
        "outputId": "d8c71454-1eac-4529-a3a9-8d9b7a006f16"
      },
      "outputs": [
        {
          "name": "stdout",
          "output_type": "stream",
          "text": [
            "<class 'pandas.core.frame.DataFrame'>\n",
            "Index: 4108 entries, 0 to 9540\n",
            "Data columns (total 16 columns):\n",
            " #   Column                        Non-Null Count  Dtype   \n",
            "---  ------                        --------------  -----   \n",
            " 0   major_field_of_studies        4108 non-null   object  \n",
            " 1   positions                     4108 non-null   object  \n",
            " 2   job_position_name             4108 non-null   category\n",
            " 3   educational_requirements      4108 non-null   object  \n",
            " 4   skills_required               4108 non-null   object  \n",
            " 5   matched_score                 4108 non-null   float64 \n",
            " 6   experience_years              4108 non-null   float64 \n",
            " 7   min_experiencere_requirement  4108 non-null   int64   \n",
            " 8   has_double_degree             4108 non-null   bool    \n",
            " 9   latest_grad_year              4108 non-null   int64   \n",
            " 10  latest_degree                 4066 non-null   object  \n",
            " 11  latest_result                 816 non-null    object  \n",
            " 12  normalized_result             648 non-null    float64 \n",
            " 13  combined_responsibilities     4108 non-null   object  \n",
            " 14  combined_skills               4108 non-null   object  \n",
            " 15  skill_match_score             4108 non-null   float64 \n",
            "dtypes: bool(1), category(1), float64(4), int64(2), object(8)\n",
            "memory usage: 490.7+ KB\n"
          ]
        }
      ],
      "source": [
        "updated_resume_data.info()"
      ]
    },
    {
      "cell_type": "code",
      "execution_count": null,
      "id": "4105169f-5eb8-4fef-abb2-74e195b5f204",
      "metadata": {
        "id": "4105169f-5eb8-4fef-abb2-74e195b5f204",
        "outputId": "2294f1d6-02a1-4f3b-820f-d1f22a3ae319"
      },
      "outputs": [
        {
          "name": "stdout",
          "output_type": "stream",
          "text": [
            "major_field_of_studies           420\n",
            "positions                         56\n",
            "job_position_name                  0\n",
            "educational_requirements           0\n",
            "skills_required                 1466\n",
            "matched_score                      0\n",
            "experience_years                   0\n",
            "min_experiencere_requirement       0\n",
            "has_double_degree                  0\n",
            "latest_grad_year                   0\n",
            "latest_degree                      0\n",
            "latest_result                      0\n",
            "normalized_result                  0\n",
            "combined_responsibilities          0\n",
            "combined_skills                   42\n",
            "skill_match_score                  0\n",
            "dtype: int64\n"
          ]
        }
      ],
      "source": [
        "def is_empty_list(val):\n",
        "    return isinstance(val, list) and len(val) == 0\n",
        "\n",
        "empty_counts = updated_resume_data.apply(lambda col: col.apply(is_empty_list).sum())\n",
        "print(empty_counts)"
      ]
    },
    {
      "cell_type": "code",
      "execution_count": null,
      "id": "726c3c15-9588-4898-8f02-0e1c03c9fd7b",
      "metadata": {
        "id": "726c3c15-9588-4898-8f02-0e1c03c9fd7b",
        "outputId": "d5de2dfd-0ab6-404b-d974-98ffa61c3a88"
      },
      "outputs": [
        {
          "name": "stderr",
          "output_type": "stream",
          "text": [
            "/var/folders/bk/2rt82r897d5by239qbg9bx140000gn/T/ipykernel_26740/2657313350.py:8: FutureWarning: DataFrame.applymap has been deprecated. Use DataFrame.map instead.\n",
            "  updated_resume_data = updated_resume_data.applymap(empty_list_to_none)\n"
          ]
        }
      ],
      "source": [
        "#Final Conversion of all these empty strings to None\n",
        "def empty_list_to_none(val):\n",
        "    if isinstance(val, list) and len(val) == 0:\n",
        "        return None\n",
        "    return val\n",
        "\n",
        "#Applying to every element in the dataframe\n",
        "updated_resume_data = updated_resume_data.applymap(empty_list_to_none)"
      ]
    },
    {
      "cell_type": "code",
      "execution_count": null,
      "id": "595d4656-20bc-48ce-820f-cfc362dacef9",
      "metadata": {
        "id": "595d4656-20bc-48ce-820f-cfc362dacef9",
        "outputId": "21010fbe-e046-4f30-8c2a-e7b4fffe554c"
      },
      "outputs": [
        {
          "name": "stdout",
          "output_type": "stream",
          "text": [
            "major_field_of_studies          0\n",
            "positions                       0\n",
            "job_position_name               0\n",
            "educational_requirements        0\n",
            "skills_required                 0\n",
            "matched_score                   0\n",
            "experience_years                0\n",
            "min_experiencere_requirement    0\n",
            "has_double_degree               0\n",
            "latest_grad_year                0\n",
            "latest_degree                   0\n",
            "latest_result                   0\n",
            "normalized_result               0\n",
            "combined_responsibilities       0\n",
            "combined_skills                 0\n",
            "skill_match_score               0\n",
            "dtype: int64\n"
          ]
        }
      ],
      "source": [
        "#Testing for presence of any []\n",
        "empty_counts = updated_resume_data.apply(lambda col: col.apply(is_empty_list).sum())\n",
        "print(empty_counts)"
      ]
    },
    {
      "cell_type": "code",
      "execution_count": null,
      "id": "dfe272b0-817e-460b-b879-f815739a701a",
      "metadata": {
        "id": "dfe272b0-817e-460b-b879-f815739a701a"
      },
      "outputs": [],
      "source": [
        "updated_resume_data.to_csv('updated_resume_data.csv', index=False)"
      ]
    },
    {
      "cell_type": "code",
      "execution_count": null,
      "id": "16ddd953-ec8e-4051-bb24-257d52c66508",
      "metadata": {
        "id": "16ddd953-ec8e-4051-bb24-257d52c66508",
        "outputId": "aa2bb132-07dc-4f6f-b8f4-f008a0681852"
      },
      "outputs": [
        {
          "name": "stderr",
          "output_type": "stream",
          "text": [
            "/var/folders/bk/2rt82r897d5by239qbg9bx140000gn/T/ipykernel_26740/3375038724.py:8: FutureWarning: \n",
            "\n",
            "Passing `palette` without assigning `hue` is deprecated and will be removed in v0.14.0. Assign the `y` variable to `hue` and set `legend=False` for the same effect.\n",
            "\n",
            "  sns.barplot(x=missing_pct.values, y=missing_pct.index, palette=\"magma\", legend = False)\n"
          ]
        },
        {
          "data": {
            "image/png": "[encoded data removed]",
            "text/plain": [
              "<Figure size 1000x600 with 1 Axes>"
            ]
          },
          "metadata": {},
          "output_type": "display_data"
        }
      ],
      "source": [
        "import seaborn as sns\n",
        "import matplotlib.pyplot as plt\n",
        "\n",
        "missing_pct = updated_resume_data.isnull().mean().sort_values(ascending=False) * 100\n",
        "missing_pct = missing_pct[missing_pct > 0]\n",
        "\n",
        "plt.figure(figsize=(10, 6))\n",
        "sns.barplot(x=missing_pct.values, y=missing_pct.index, palette=\"magma\", legend = False)\n",
        "plt.xlabel(\"Percentage of Missing Values\")\n",
        "plt.title(\"Missing Data per Column\")\n",
        "plt.tight_layout()\n",
        "plt.show()"
      ]
    },
    {
      "cell_type": "code",
      "execution_count": null,
      "id": "bcae0d18-9983-4bf3-96e3-def132ae5225",
      "metadata": {
        "id": "bcae0d18-9983-4bf3-96e3-def132ae5225",
        "outputId": "1e36ec7d-65d6-48c4-b76c-862f460d954b"
      },
      "outputs": [
        {
          "data": {
            "image/png": "[encoded data removed]",
            "text/plain": [
              "<Figure size 1000x600 with 1 Axes>"
            ]
          },
          "metadata": {},
          "output_type": "display_data"
        }
      ],
      "source": [
        "#Visualization for Skill match score :\n",
        "\n",
        "import seaborn as sns\n",
        "\n",
        "plt.figure(figsize=(10, 6))\n",
        "sample_data = updated_resume_data[updated_resume_data['skill_match_score'] > 0]\n",
        "sns.histplot(sample_data['skill_match_score'], bins = 10, color = 'blue', kde= True )\n",
        "plt.title(\"Skill Match Score Distribution\")\n",
        "plt.xlabel(\"Match Score (0 to 1)\")\n",
        "plt.show()"
      ]
    },
    {
      "cell_type": "code",
      "execution_count": null,
      "id": "3cd67765-efa6-4630-99a7-60019647432e",
      "metadata": {
        "id": "3cd67765-efa6-4630-99a7-60019647432e",
        "outputId": "5b25c723-2f8d-4eab-e5ef-146d9a4d9b4e"
      },
      "outputs": [
        {
          "data": {
            "image/png": "[encoded data removed]",
            "text/plain": [
              "<Figure size 1000x600 with 1 Axes>"
            ]
          },
          "metadata": {},
          "output_type": "display_data"
        }
      ],
      "source": [
        "#Plotting how Experienced the candidate pool is\n",
        "plt.figure(figsize=(10,6))\n",
        "sns.histplot(updated_resume_data['experience_years'], bins = 20, color = 'green')\n",
        "plt.title(\"Candidates Experience Pool\")\n",
        "plt.xlabel(\"Years of Experience\")\n",
        "plt.ylabel(\"Count\")\n",
        "plt.show()"
      ]
    },
    {
      "cell_type": "code",
      "execution_count": null,
      "id": "d14697db-3d42-4f96-8a33-598121423740",
      "metadata": {
        "id": "d14697db-3d42-4f96-8a33-598121423740"
      },
      "outputs": [],
      "source": []
    }
  ],
  "metadata": {
    "kernelspec": {
      "display_name": "Python 3 (ipykernel)",
      "language": "python",
      "name": "python3"
    },
    "language_info": {
      "codemirror_mode": {
        "name": "ipython",
        "version": 3
      },
      "file_extension": ".py",
      "mimetype": "text/x-python",
      "name": "python",
      "nbconvert_exporter": "python",
      "pygments_lexer": "ipython3",
      "version": "3.12.2"
    },
    "colab": {
      "provenance": []
    }
  },
  "nbformat": 4,
  "nbformat_minor": 5
}